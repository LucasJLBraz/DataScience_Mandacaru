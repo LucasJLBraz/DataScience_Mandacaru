{
 "cells": [
  {
   "metadata": {},
   "cell_type": "markdown",
   "source": "# Análise de Sentimento Financeiro com Modelos Profundos"
  },
  {
   "metadata": {},
   "cell_type": "markdown",
   "source": [
    "## Índice\n",
    "1. [Carregamento de Dados](##carregamento)\n",
    "2. [Pré-processamento](##pre-processamento)\n",
    "3. [Treinamento do Modelo X](#modelo-x)"
   ]
  },
  {
   "metadata": {
    "ExecuteTime": {
     "end_time": "2025-05-21T21:40:36.663158Z",
     "start_time": "2025-05-21T21:40:36.003366Z"
    }
   },
   "cell_type": "code",
   "source": [
    "# Importar bibliotecas necessárias\n",
    "import pandas as pd\n",
    "from sklearn.preprocessing import LabelEncoder\n",
    "from sklearn.model_selection import train_test_split\n",
    "from sklearn.feature_extraction.text import TfidfVectorizer\n",
    "from sklearn.ensemble import RandomForestClassifier\n",
    "from sklearn.metrics import accuracy_score, classification_report, confusion_matrix\n",
    "import nltk\n"
   ],
   "outputs": [],
   "execution_count": 1
  },
  {
   "cell_type": "markdown",
   "metadata": {},
   "source": "## Carregamento de Dados"
  },
  {
   "metadata": {
    "ExecuteTime": {
     "end_time": "2025-05-21T21:41:15.348897Z",
     "start_time": "2025-05-21T21:41:15.255816Z"
    }
   },
   "cell_type": "code",
   "source": [
    "# Ler o arquivo CSV\n",
    "df = pd.read_csv(\"./data/data.csv\", names=['data', 'label'])"
   ],
   "outputs": [
    {
     "ename": "FileNotFoundError",
     "evalue": "[Errno 2] No such file or directory: './data/data.csv'",
     "output_type": "error",
     "traceback": [
      "\u001B[31m---------------------------------------------------------------------------\u001B[39m",
      "\u001B[31mFileNotFoundError\u001B[39m                         Traceback (most recent call last)",
      "\u001B[36mCell\u001B[39m\u001B[36m \u001B[39m\u001B[32mIn[3]\u001B[39m\u001B[32m, line 2\u001B[39m\n\u001B[32m      1\u001B[39m \u001B[38;5;66;03m# Ler o arquivo CSV\u001B[39;00m\n\u001B[32m----> \u001B[39m\u001B[32m2\u001B[39m df = pd.read_csv(\u001B[33m\"\u001B[39m\u001B[33m./data/data.csv\u001B[39m\u001B[33m\"\u001B[39m, names=[\u001B[33m'\u001B[39m\u001B[33mdata\u001B[39m\u001B[33m'\u001B[39m, \u001B[33m'\u001B[39m\u001B[33mlabel\u001B[39m\u001B[33m'\u001B[39m])\n",
      "\u001B[36mFile \u001B[39m\u001B[32m~/anaconda3/envs/DataScience_Mandacaru/lib/python3.12/site-packages/pandas/io/parsers/readers.py:1026\u001B[39m, in \u001B[36mread_csv\u001B[39m\u001B[34m(filepath_or_buffer, sep, delimiter, header, names, index_col, usecols, dtype, engine, converters, true_values, false_values, skipinitialspace, skiprows, skipfooter, nrows, na_values, keep_default_na, na_filter, verbose, skip_blank_lines, parse_dates, infer_datetime_format, keep_date_col, date_parser, date_format, dayfirst, cache_dates, iterator, chunksize, compression, thousands, decimal, lineterminator, quotechar, quoting, doublequote, escapechar, comment, encoding, encoding_errors, dialect, on_bad_lines, delim_whitespace, low_memory, memory_map, float_precision, storage_options, dtype_backend)\u001B[39m\n\u001B[32m   1013\u001B[39m kwds_defaults = _refine_defaults_read(\n\u001B[32m   1014\u001B[39m     dialect,\n\u001B[32m   1015\u001B[39m     delimiter,\n\u001B[32m   (...)\u001B[39m\u001B[32m   1022\u001B[39m     dtype_backend=dtype_backend,\n\u001B[32m   1023\u001B[39m )\n\u001B[32m   1024\u001B[39m kwds.update(kwds_defaults)\n\u001B[32m-> \u001B[39m\u001B[32m1026\u001B[39m \u001B[38;5;28;01mreturn\u001B[39;00m _read(filepath_or_buffer, kwds)\n",
      "\u001B[36mFile \u001B[39m\u001B[32m~/anaconda3/envs/DataScience_Mandacaru/lib/python3.12/site-packages/pandas/io/parsers/readers.py:620\u001B[39m, in \u001B[36m_read\u001B[39m\u001B[34m(filepath_or_buffer, kwds)\u001B[39m\n\u001B[32m    617\u001B[39m _validate_names(kwds.get(\u001B[33m\"\u001B[39m\u001B[33mnames\u001B[39m\u001B[33m\"\u001B[39m, \u001B[38;5;28;01mNone\u001B[39;00m))\n\u001B[32m    619\u001B[39m \u001B[38;5;66;03m# Create the parser.\u001B[39;00m\n\u001B[32m--> \u001B[39m\u001B[32m620\u001B[39m parser = TextFileReader(filepath_or_buffer, **kwds)\n\u001B[32m    622\u001B[39m \u001B[38;5;28;01mif\u001B[39;00m chunksize \u001B[38;5;129;01mor\u001B[39;00m iterator:\n\u001B[32m    623\u001B[39m     \u001B[38;5;28;01mreturn\u001B[39;00m parser\n",
      "\u001B[36mFile \u001B[39m\u001B[32m~/anaconda3/envs/DataScience_Mandacaru/lib/python3.12/site-packages/pandas/io/parsers/readers.py:1620\u001B[39m, in \u001B[36mTextFileReader.__init__\u001B[39m\u001B[34m(self, f, engine, **kwds)\u001B[39m\n\u001B[32m   1617\u001B[39m     \u001B[38;5;28mself\u001B[39m.options[\u001B[33m\"\u001B[39m\u001B[33mhas_index_names\u001B[39m\u001B[33m\"\u001B[39m] = kwds[\u001B[33m\"\u001B[39m\u001B[33mhas_index_names\u001B[39m\u001B[33m\"\u001B[39m]\n\u001B[32m   1619\u001B[39m \u001B[38;5;28mself\u001B[39m.handles: IOHandles | \u001B[38;5;28;01mNone\u001B[39;00m = \u001B[38;5;28;01mNone\u001B[39;00m\n\u001B[32m-> \u001B[39m\u001B[32m1620\u001B[39m \u001B[38;5;28mself\u001B[39m._engine = \u001B[38;5;28mself\u001B[39m._make_engine(f, \u001B[38;5;28mself\u001B[39m.engine)\n",
      "\u001B[36mFile \u001B[39m\u001B[32m~/anaconda3/envs/DataScience_Mandacaru/lib/python3.12/site-packages/pandas/io/parsers/readers.py:1880\u001B[39m, in \u001B[36mTextFileReader._make_engine\u001B[39m\u001B[34m(self, f, engine)\u001B[39m\n\u001B[32m   1878\u001B[39m     \u001B[38;5;28;01mif\u001B[39;00m \u001B[33m\"\u001B[39m\u001B[33mb\u001B[39m\u001B[33m\"\u001B[39m \u001B[38;5;129;01mnot\u001B[39;00m \u001B[38;5;129;01min\u001B[39;00m mode:\n\u001B[32m   1879\u001B[39m         mode += \u001B[33m\"\u001B[39m\u001B[33mb\u001B[39m\u001B[33m\"\u001B[39m\n\u001B[32m-> \u001B[39m\u001B[32m1880\u001B[39m \u001B[38;5;28mself\u001B[39m.handles = get_handle(\n\u001B[32m   1881\u001B[39m     f,\n\u001B[32m   1882\u001B[39m     mode,\n\u001B[32m   1883\u001B[39m     encoding=\u001B[38;5;28mself\u001B[39m.options.get(\u001B[33m\"\u001B[39m\u001B[33mencoding\u001B[39m\u001B[33m\"\u001B[39m, \u001B[38;5;28;01mNone\u001B[39;00m),\n\u001B[32m   1884\u001B[39m     compression=\u001B[38;5;28mself\u001B[39m.options.get(\u001B[33m\"\u001B[39m\u001B[33mcompression\u001B[39m\u001B[33m\"\u001B[39m, \u001B[38;5;28;01mNone\u001B[39;00m),\n\u001B[32m   1885\u001B[39m     memory_map=\u001B[38;5;28mself\u001B[39m.options.get(\u001B[33m\"\u001B[39m\u001B[33mmemory_map\u001B[39m\u001B[33m\"\u001B[39m, \u001B[38;5;28;01mFalse\u001B[39;00m),\n\u001B[32m   1886\u001B[39m     is_text=is_text,\n\u001B[32m   1887\u001B[39m     errors=\u001B[38;5;28mself\u001B[39m.options.get(\u001B[33m\"\u001B[39m\u001B[33mencoding_errors\u001B[39m\u001B[33m\"\u001B[39m, \u001B[33m\"\u001B[39m\u001B[33mstrict\u001B[39m\u001B[33m\"\u001B[39m),\n\u001B[32m   1888\u001B[39m     storage_options=\u001B[38;5;28mself\u001B[39m.options.get(\u001B[33m\"\u001B[39m\u001B[33mstorage_options\u001B[39m\u001B[33m\"\u001B[39m, \u001B[38;5;28;01mNone\u001B[39;00m),\n\u001B[32m   1889\u001B[39m )\n\u001B[32m   1890\u001B[39m \u001B[38;5;28;01massert\u001B[39;00m \u001B[38;5;28mself\u001B[39m.handles \u001B[38;5;129;01mis\u001B[39;00m \u001B[38;5;129;01mnot\u001B[39;00m \u001B[38;5;28;01mNone\u001B[39;00m\n\u001B[32m   1891\u001B[39m f = \u001B[38;5;28mself\u001B[39m.handles.handle\n",
      "\u001B[36mFile \u001B[39m\u001B[32m~/anaconda3/envs/DataScience_Mandacaru/lib/python3.12/site-packages/pandas/io/common.py:873\u001B[39m, in \u001B[36mget_handle\u001B[39m\u001B[34m(path_or_buf, mode, encoding, compression, memory_map, is_text, errors, storage_options)\u001B[39m\n\u001B[32m    868\u001B[39m \u001B[38;5;28;01melif\u001B[39;00m \u001B[38;5;28misinstance\u001B[39m(handle, \u001B[38;5;28mstr\u001B[39m):\n\u001B[32m    869\u001B[39m     \u001B[38;5;66;03m# Check whether the filename is to be opened in binary mode.\u001B[39;00m\n\u001B[32m    870\u001B[39m     \u001B[38;5;66;03m# Binary mode does not support 'encoding' and 'newline'.\u001B[39;00m\n\u001B[32m    871\u001B[39m     \u001B[38;5;28;01mif\u001B[39;00m ioargs.encoding \u001B[38;5;129;01mand\u001B[39;00m \u001B[33m\"\u001B[39m\u001B[33mb\u001B[39m\u001B[33m\"\u001B[39m \u001B[38;5;129;01mnot\u001B[39;00m \u001B[38;5;129;01min\u001B[39;00m ioargs.mode:\n\u001B[32m    872\u001B[39m         \u001B[38;5;66;03m# Encoding\u001B[39;00m\n\u001B[32m--> \u001B[39m\u001B[32m873\u001B[39m         handle = \u001B[38;5;28mopen\u001B[39m(\n\u001B[32m    874\u001B[39m             handle,\n\u001B[32m    875\u001B[39m             ioargs.mode,\n\u001B[32m    876\u001B[39m             encoding=ioargs.encoding,\n\u001B[32m    877\u001B[39m             errors=errors,\n\u001B[32m    878\u001B[39m             newline=\u001B[33m\"\u001B[39m\u001B[33m\"\u001B[39m,\n\u001B[32m    879\u001B[39m         )\n\u001B[32m    880\u001B[39m     \u001B[38;5;28;01melse\u001B[39;00m:\n\u001B[32m    881\u001B[39m         \u001B[38;5;66;03m# Binary mode\u001B[39;00m\n\u001B[32m    882\u001B[39m         handle = \u001B[38;5;28mopen\u001B[39m(handle, ioargs.mode)\n",
      "\u001B[31mFileNotFoundError\u001B[39m: [Errno 2] No such file or directory: './data/data.csv'"
     ]
    }
   ],
   "execution_count": 3
  },
  {
   "metadata": {},
   "cell_type": "markdown",
   "source": "## Pré-processamento"
  },
  {
   "metadata": {},
   "cell_type": "markdown",
   "source": "### Removendo linhas com valores nulos ou vazios"
  },
  {
   "metadata": {},
   "cell_type": "code",
   "outputs": [],
   "execution_count": null,
   "source": [
    "# Remover linhas com valores nulos ou vazios\n",
    "df = df.dropna()"
   ]
  },
  {
   "cell_type": "markdown",
   "metadata": {},
   "source": [
    "### Removendo a primeira linha"
   ]
  },
  {
   "cell_type": "code",
   "execution_count": 180,
   "metadata": {
    "ExecuteTime": {
     "start_time": "2023-11-21T23:41:14.189555138Z"
    },
    "collapsed": false,
    "jupyter": {
     "outputs_hidden": false
    },
    "tags": []
   },
   "outputs": [],
   "source": [
    "# Remover a primeira linha\n",
    "df = df.iloc[1:]\n"
   ]
  },
  {
   "cell_type": "markdown",
   "metadata": {},
   "source": [
    "### Removendo alphanumericos, pontuação, stopwords e deixando tudo em minúsculo"
   ]
  },
  {
   "cell_type": "code",
   "execution_count": 181,
   "metadata": {
    "ExecuteTime": {
     "start_time": "2023-11-21T23:41:14.190450419Z"
    },
    "collapsed": false,
    "jupyter": {
     "outputs_hidden": false
    },
    "tags": []
   },
   "outputs": [
    {
     "name": "stderr",
     "output_type": "stream",
     "text": [
      "[nltk_data] Downloading package stopwords to /home/apo-pc/nltk_data...\n",
      "[nltk_data]   Package stopwords is already up-to-date!\n",
      "/tmp/ipykernel_11864/2354185342.py:3: FutureWarning: The default value of regex will change from True to False in a future version.\n",
      "  df['data'] = df['data'].str.replace('\\d+', '')\n",
      "/tmp/ipykernel_11864/2354185342.py:9: FutureWarning: The default value of regex will change from True to False in a future version.\n",
      "  df['data'] = df['data'].str.replace('[^\\w\\s]', '')\n"
     ]
    }
   ],
   "source": [
    "nltk.download('stopwords')\n",
    "# Remover alfanuméricos\n",
    "df['data'] = df['data'].str.replace('\\d+', '')\n",
    "\n",
    "# Deixar tudo em minúsculo\n",
    "df['data'] = df['data'].str.lower()\n",
    "\n",
    "# Remover pontuação\n",
    "df['data'] = df['data'].str.replace('[^\\w\\s]', '')\n",
    "\n",
    "# Remover stopwords\n",
    "stopwords = nltk.corpus.stopwords.words('english')\n",
    "df['data'] = df['data'].apply(lambda x: \" \".join(x for x in x.split() if x not in stopwords))"
   ]
  },
  {
   "cell_type": "markdown",
   "metadata": {},
   "source": [
    "### Lemmatização"
   ]
  },
  {
   "cell_type": "code",
   "execution_count": 182,
   "metadata": {
    "ExecuteTime": {
     "start_time": "2023-11-21T23:41:14.191216779Z"
    },
    "collapsed": false,
    "jupyter": {
     "outputs_hidden": false
    },
    "tags": []
   },
   "outputs": [
    {
     "name": "stderr",
     "output_type": "stream",
     "text": [
      "[nltk_data] Downloading package wordnet to /home/apo-pc/nltk_data...\n",
      "[nltk_data]   Package wordnet is already up-to-date!\n"
     ]
    }
   ],
   "source": [
    "# Lemmatização\n",
    "from nltk.stem import WordNetLemmatizer\n",
    "nltk.download('wordnet')\n",
    "\n",
    "lemmatizer = WordNetLemmatizer()\n",
    "df['data'] = df['data'].apply(lambda x: \" \".join([lemmatizer.lemmatize(word) for word in x.split()]))"
   ]
  },
  {
   "cell_type": "markdown",
   "metadata": {},
   "source": [
    "### Dividindo os dados em treino e teste"
   ]
  },
  {
   "cell_type": "code",
   "execution_count": 183,
   "metadata": {
    "ExecuteTime": {
     "start_time": "2023-11-20T18:36:30.053518494Z"
    },
    "collapsed": false,
    "jupyter": {
     "outputs_hidden": false
    },
    "tags": []
   },
   "outputs": [],
   "source": [
    "# Dividir os dados em treino e teste\n",
    "X_train, X_test, y_train, y_test = train_test_split(df['data'], df['label'], test_size=0.2, random_state=42)"
   ]
  },
  {
   "cell_type": "code",
   "execution_count": 184,
   "metadata": {
    "ExecuteTime": {
     "start_time": "2023-11-20T18:36:30.070422751Z"
    },
    "collapsed": false,
    "jupyter": {
     "outputs_hidden": false
    },
    "tags": []
   },
   "outputs": [
    {
     "data": {
      "text/plain": [
       "neutral     2508\n",
       "positive    1480\n",
       "negative     685\n",
       "Name: label, dtype: int64"
      ]
     },
     "execution_count": 184,
     "metadata": {},
     "output_type": "execute_result"
    }
   ],
   "source": [
    "# COntar qtd de classes\n",
    "y_train.value_counts()\n"
   ]
  },
  {
   "cell_type": "markdown",
   "metadata": {},
   "source": [
    "### Codificando a variável target"
   ]
  },
  {
   "cell_type": "code",
   "execution_count": 185,
   "metadata": {
    "ExecuteTime": {
     "start_time": "2023-11-20T18:36:30.071360763Z"
    },
    "collapsed": false,
    "jupyter": {
     "outputs_hidden": false
    },
    "tags": []
   },
   "outputs": [],
   "source": [
    "# Instantiate the label encoder\n",
    "label_encoder = LabelEncoder()\n",
    "\n",
    "# Fit and transform the training labels\n",
    "y_train = label_encoder.fit_transform(y_train)\n",
    "\n",
    "# Transform the test labels (use the same label encoder instance)\n",
    "y_test = label_encoder.transform(y_test)"
   ]
  },
  {
   "cell_type": "markdown",
   "metadata": {},
   "source": [
    "## Vetorização\n",
    "### TF-IDF"
   ]
  },
  {
   "cell_type": "code",
   "execution_count": 186,
   "metadata": {
    "ExecuteTime": {
     "start_time": "2023-11-20T18:36:30.083268269Z"
    },
    "tags": []
   },
   "outputs": [],
   "source": [
    "# Pré-processar os dados de texto\n",
    "tfidf_vectorizer = TfidfVectorizer()\n",
    "X_train_tfidf = tfidf_vectorizer.fit_transform(X_train)\n",
    "X_test_tfidf = tfidf_vectorizer.transform(X_test)\n",
    "\n",
    "\n",
    "\n",
    "X_puro_train_tfidf = X_train_tfidf\n",
    "X_puro_test_tfidf = X_test_tfidf"
   ]
  },
  {
   "cell_type": "markdown",
   "metadata": {},
   "source": [
    "## Treinamento\n",
    "### Importando bibliotecas\n",
    "(Pytorch=LSTM, RNN, CNN)"
   ]
  },
  {
   "cell_type": "code",
   "execution_count": 187,
   "metadata": {
    "ExecuteTime": {
     "start_time": "2023-11-20T18:36:30.089353674Z"
    },
    "collapsed": false,
    "jupyter": {
     "outputs_hidden": false
    }
   },
   "outputs": [],
   "source": [
    "# Importar bibliotecas necessárias\n",
    "import torch\n",
    "import torch.nn as nn\n",
    "import torch.nn.functional as F\n",
    "import torch.optim as optim\n",
    "import numpy as np\n",
    "\n",
    "#"
   ]
  },
  {
   "cell_type": "markdown",
   "metadata": {},
   "source": [
    "### LSTM"
   ]
  },
  {
   "cell_type": "code",
   "execution_count": 171,
   "metadata": {
    "ExecuteTime": {
     "start_time": "2023-11-20T18:36:30.130729800Z"
    },
    "collapsed": false,
    "jupyter": {
     "outputs_hidden": false
    }
   },
   "outputs": [],
   "source": [
    "# Importing necessary PyTorch libraries\n",
    "import torch\n",
    "import torch.nn as nn\n",
    "import torch.optim as optim\n",
    "from torch.utils.data import DataLoader, TensorDataset"
   ]
  },
  {
   "cell_type": "markdown",
   "metadata": {},
   "source": [
    "Definindo dispositivo CUDA"
   ]
  },
  {
   "cell_type": "code",
   "execution_count": 172,
   "metadata": {
    "ExecuteTime": {
     "start_time": "2023-11-20T18:36:30.130729800Z"
    },
    "collapsed": false,
    "jupyter": {
     "outputs_hidden": false
    }
   },
   "outputs": [
    {
     "name": "stdout",
     "output_type": "stream",
     "text": [
      "CUDA é suportado pelo sistema? True\n",
      "Versao do CUDA: 12.1\n",
      "ID do CUDA device: 0\n",
      "Nome do dispositivo CUDA:NVIDIA GeForce RTX 4060\n"
     ]
    }
   ],
   "source": [
    "print(f\"CUDA é suportado pelo sistema? {torch.cuda.is_available()}\")\n",
    "print(f\"Versao do CUDA: {torch.version.cuda}\")\n",
    " \n",
    "# Storing ID of current CUDA device\n",
    "cuda_id = torch.cuda.current_device()\n",
    "print(f\"ID do CUDA device: {torch.cuda.current_device()}\")\n",
    "       \n",
    "print(f\"Nome do dispositivo CUDA:{torch.cuda.get_device_name(cuda_id)}\")\n",
    "device = torch.device(\"cuda\" if torch.cuda.is_available() else \"cpu\")\n",
    "\n",
    "torch.set_default_device('cuda')\n"
   ]
  },
  {
   "cell_type": "code",
   "execution_count": 173,
   "metadata": {
    "ExecuteTime": {
     "start_time": "2023-11-20T18:36:30.130729800Z"
    },
    "collapsed": false,
    "jupyter": {
     "outputs_hidden": false
    }
   },
   "outputs": [],
   "source": [
    "# Convert text data to PyTorch tensors\n",
    "X_train_tfidf = torch.tensor(X_train_tfidf.toarray(), dtype=torch.float32)\n",
    "X_test_tfidf = torch.tensor(X_test_tfidf.toarray(), dtype=torch.float32)\n",
    "y_train = torch.tensor(y_train, dtype=torch.long)\n",
    "y_test = torch.tensor(y_test, dtype=torch.long)\n",
    "\n",
    "# Create DataLoader for training and testing data\n",
    "train_dataset = TensorDataset(X_train_tfidf, y_train)\n",
    "test_dataset = TensorDataset(X_test_tfidf, y_test)\n",
    "train_loader = DataLoader(train_dataset, batch_size=32, shuffle=False)\n",
    "test_loader = DataLoader(test_dataset, batch_size=32, shuffle=False)"
   ]
  },
  {
   "cell_type": "code",
   "execution_count": 52,
   "metadata": {
    "ExecuteTime": {
     "start_time": "2023-11-20T18:36:30.131430177Z"
    },
    "collapsed": false,
    "jupyter": {
     "outputs_hidden": false
    }
   },
   "outputs": [],
   "source": [
    "# Define a simple LSTM model\n",
    "class SimpleLSTM(nn.Module):\n",
    "    def __init__(self, input_size, hidden_size, num_layers, output_size):\n",
    "        super(SimpleLSTM, self).__init__()\n",
    "        self.lstm = nn.LSTM(input_size, hidden_size, num_layers, batch_first=True)\n",
    "        self.fc = nn.Linear(hidden_size, output_size)\n",
    "\n",
    "    def forward(self, x):\n",
    "        # Add an extra dimension to the input tensor\n",
    "        x = x.unsqueeze(1)\n",
    "\n",
    "        out, _ = self.lstm(x)\n",
    "        out = self.fc(out[:, -1, :])  # Take the output from the last time step\n",
    "        return out\n",
    "\n",
    "# Set hyperparameters\n",
    "input_size = X_train_tfidf.shape[1]\n",
    "hidden_size = 64\n",
    "num_layers = 1\n",
    "output_size = len(df['label'].unique())  # Assuming your labels are numerical\n",
    "\n",
    "# Instantiate the model, loss function, and optimizer\n",
    "model = SimpleLSTM(input_size, hidden_size, num_layers, output_size)\n",
    "criterion = nn.CrossEntropyLoss()\n",
    "optimizer = optim.Adam(model.parameters(), lr=0.001)\n",
    "\n",
    "# Train the LSTM model\n",
    "num_epochs = 10\n",
    "for epoch in range(num_epochs):\n",
    "    for inputs, labels in train_loader:\n",
    "        optimizer.zero_grad()\n",
    "        outputs = model(inputs)\n",
    "        loss = criterion(outputs, labels)\n",
    "        loss.backward()\n",
    "        optimizer.step()\n",
    "\n",
    "# Evaluate the model on the test set\n",
    "model.eval()\n",
    "with torch.no_grad():\n",
    "    test_outputs = model(X_test_tfidf)\n",
    "    _, predicted = torch.max(test_outputs, 1)"
   ]
  },
  {
   "cell_type": "code",
   "execution_count": 54,
   "metadata": {
    "ExecuteTime": {
     "start_time": "2023-11-20T18:36:30.131430177Z"
    },
    "collapsed": false,
    "jupyter": {
     "outputs_hidden": false
    }
   },
   "outputs": [
    {
     "name": "stdout",
     "output_type": "stream",
     "text": [
      "Classification Report:\n",
      "               precision    recall  f1-score   support\n",
      "\n",
      "           0       0.31      0.25      0.27       175\n",
      "           1       0.71      0.76      0.74       622\n",
      "           2       0.73      0.71      0.72       372\n",
      "\n",
      "    accuracy                           0.67      1169\n",
      "   macro avg       0.58      0.57      0.58      1169\n",
      "weighted avg       0.66      0.67      0.66      1169\n",
      "\n",
      "Accuracy: 0.6680923866552609\n"
     ]
    }
   ],
   "source": [
    "# Convert the PyTorch tensors back to NumPy arrays for sklearn metrics\n",
    "predicted = predicted.cpu().numpy()\n",
    "y_test = y_test.cpu().numpy()\n",
    "\n",
    "# Print classification report and accuracy\n",
    "print(\"Classification Report:\\n\", classification_report(y_test, predicted))\n",
    "print(\"Accuracy:\", accuracy_score(y_test, predicted))"
   ]
  },
  {
   "cell_type": "markdown",
   "metadata": {},
   "source": [
    "#### Avaliando o modelo"
   ]
  },
  {
   "cell_type": "code",
   "execution_count": 59,
   "metadata": {
    "ExecuteTime": {
     "start_time": "2023-11-20T18:36:30.132080402Z"
    },
    "collapsed": false,
    "jupyter": {
     "outputs_hidden": false
    }
   },
   "outputs": [
    {
     "name": "stdout",
     "output_type": "stream",
     "text": [
      "Epoch [1/10], Batch [100/147], Loss: 1.0027\n",
      "Epoch [2/10], Batch [100/147], Loss: 0.8041\n",
      "Epoch [3/10], Batch [100/147], Loss: 0.5553\n",
      "Epoch [4/10], Batch [100/147], Loss: 0.3283\n",
      "Epoch [5/10], Batch [100/147], Loss: 0.2272\n",
      "Epoch [6/10], Batch [100/147], Loss: 0.1786\n",
      "Epoch [7/10], Batch [100/147], Loss: 0.1722\n",
      "Epoch [8/10], Batch [100/147], Loss: 0.1692\n",
      "Epoch [9/10], Batch [100/147], Loss: 0.1654\n",
      "Epoch [10/10], Batch [100/147], Loss: 0.1639\n"
     ]
    }
   ],
   "source": [
    "class RobustLSTM(nn.Module):\n",
    "    def __init__(self, input_size, hidden_size, num_layers, output_size, bidirectional=True, dropout=0.5):\n",
    "        super(RobustLSTM, self).__init__()\n",
    "        self.lstm = nn.LSTM(input_size, hidden_size, num_layers, batch_first=True, bidirectional=bidirectional)\n",
    "        self.dropout = nn.Dropout(dropout)\n",
    "        self.fc = nn.Linear(hidden_size * 2 if bidirectional else hidden_size, output_size)\n",
    "\n",
    "    def forward(self, x):\n",
    "        x = x.unsqueeze(1)\n",
    "        out, _ = self.lstm(x)\n",
    "        out = self.dropout(out)\n",
    "        out = self.fc(out[:, -1, :])\n",
    "        return out\n",
    "\n",
    "# Set hyperparameters\n",
    "input_size = X_train_tfidf.shape[1]\n",
    "hidden_size = 64\n",
    "num_layers = 2  # Increased the number of layers\n",
    "output_size = len(df['label'].unique())\n",
    "bidirectional = True\n",
    "dropout = 0.5\n",
    "\n",
    "# Instantiate the model with bidirectional LSTM and dropout\n",
    "model = RobustLSTM(input_size, hidden_size, num_layers, output_size, bidirectional=bidirectional, dropout=dropout)\n",
    "criterion = nn.CrossEntropyLoss()\n",
    "optimizer = optim.Adam(model.parameters(), lr=0.001)\n",
    "\n",
    "# Implement learning rate scheduling\n",
    "scheduler = optim.lr_scheduler.StepLR(optimizer, step_size=5, gamma=0.1)\n",
    "# Train the LSTM model with progress updates\n",
    "num_epochs = 10\n",
    "print_interval = 100  # Print loss every 100 batches\n",
    "\n",
    "for epoch in range(num_epochs):\n",
    "    model.train()\n",
    "    total_loss = 0.0\n",
    "    for batch_idx, (inputs, labels) in enumerate(train_loader):\n",
    "        optimizer.zero_grad()\n",
    "        outputs = model(inputs)\n",
    "        loss = criterion(outputs, labels)\n",
    "        loss.backward()\n",
    "        optimizer.step()\n",
    "\n",
    "        total_loss += loss.item()\n",
    "\n",
    "        # Print training progress\n",
    "        if batch_idx % print_interval == 0 and batch_idx > 0:\n",
    "            avg_loss = total_loss / print_interval\n",
    "            print(f\"Epoch [{epoch + 1}/{num_epochs}], Batch [{batch_idx}/{len(train_loader)}], Loss: {avg_loss:.4f}\")\n",
    "            total_loss = 0.0\n",
    "\n",
    "    # Learning rate scheduling step\n",
    "    scheduler.step()"
   ]
  },
  {
   "cell_type": "code",
   "execution_count": 60,
   "metadata": {
    "ExecuteTime": {
     "start_time": "2023-11-20T18:36:30.174615273Z"
    },
    "collapsed": false,
    "jupyter": {
     "outputs_hidden": false
    }
   },
   "outputs": [
    {
     "name": "stdout",
     "output_type": "stream",
     "text": [
      "Classification Report:\n",
      "               precision    recall  f1-score   support\n",
      "\n",
      "           0       0.32      0.26      0.29       175\n",
      "           1       0.72      0.77      0.74       622\n",
      "           2       0.73      0.70      0.72       372\n",
      "\n",
      "    accuracy                           0.67      1169\n",
      "   macro avg       0.59      0.58      0.58      1169\n",
      "weighted avg       0.66      0.67      0.67      1169\n",
      "\n",
      "Accuracy: 0.6740804106073567\n"
     ]
    }
   ],
   "source": [
    "# Evaluate the model on the test set\n",
    "model.eval()\n",
    "with torch.no_grad():\n",
    "    test_outputs = model(X_test_tfidf)\n",
    "    _, predicted = torch.max(test_outputs, 1)\n",
    "\n",
    "# Convert the PyTorch tensors back to NumPy arrays for sklearn metrics\n",
    "predicted = predicted.cpu().numpy()\n",
    "# y_test = y_test.numpy()\n",
    "\n",
    "# Print classification report and accuracy\n",
    "print(\"Classification Report:\\n\", classification_report(y_test, predicted))\n",
    "print(\"Accuracy:\", accuracy_score(y_test, predicted))"
   ]
  },
  {
   "cell_type": "code",
   "execution_count": 63,
   "metadata": {
    "ExecuteTime": {
     "start_time": "2023-11-20T18:36:30.175132488Z"
    },
    "collapsed": false,
    "jupyter": {
     "outputs_hidden": false
    }
   },
   "outputs": [
    {
     "name": "stdout",
     "output_type": "stream",
     "text": [
      "Parameters: {'bidirectional': True, 'dropout': 0.3, 'hidden_size': 32, 'learning_rate': 0.001, 'num_layers': 1}, Accuracy: 0.7066\n",
      "Parameters: {'bidirectional': True, 'dropout': 0.3, 'hidden_size': 32, 'learning_rate': 0.001, 'num_layers': 2}, Accuracy: 0.6775\n",
      "Parameters: {'bidirectional': True, 'dropout': 0.3, 'hidden_size': 32, 'learning_rate': 0.001, 'num_layers': 3}, Accuracy: 0.6561\n",
      "Parameters: {'bidirectional': True, 'dropout': 0.3, 'hidden_size': 32, 'learning_rate': 0.01, 'num_layers': 1}, Accuracy: 0.6655\n",
      "Parameters: {'bidirectional': True, 'dropout': 0.3, 'hidden_size': 32, 'learning_rate': 0.01, 'num_layers': 2}, Accuracy: 0.6689\n",
      "Parameters: {'bidirectional': True, 'dropout': 0.3, 'hidden_size': 32, 'learning_rate': 0.01, 'num_layers': 3}, Accuracy: 0.6843\n",
      "Parameters: {'bidirectional': True, 'dropout': 0.3, 'hidden_size': 32, 'learning_rate': 0.1, 'num_layers': 1}, Accuracy: 0.6715\n",
      "Parameters: {'bidirectional': True, 'dropout': 0.3, 'hidden_size': 32, 'learning_rate': 0.1, 'num_layers': 2}, Accuracy: 0.6655\n",
      "Parameters: {'bidirectional': True, 'dropout': 0.3, 'hidden_size': 32, 'learning_rate': 0.1, 'num_layers': 3}, Accuracy: 0.6621\n",
      "Parameters: {'bidirectional': True, 'dropout': 0.3, 'hidden_size': 64, 'learning_rate': 0.001, 'num_layers': 1}, Accuracy: 0.6963\n",
      "Parameters: {'bidirectional': True, 'dropout': 0.3, 'hidden_size': 64, 'learning_rate': 0.001, 'num_layers': 2}, Accuracy: 0.6775\n",
      "Parameters: {'bidirectional': True, 'dropout': 0.3, 'hidden_size': 64, 'learning_rate': 0.001, 'num_layers': 3}, Accuracy: 0.6715\n",
      "Parameters: {'bidirectional': True, 'dropout': 0.3, 'hidden_size': 64, 'learning_rate': 0.01, 'num_layers': 1}, Accuracy: 0.6561\n",
      "Parameters: {'bidirectional': True, 'dropout': 0.3, 'hidden_size': 64, 'learning_rate': 0.01, 'num_layers': 2}, Accuracy: 0.6621\n",
      "Parameters: {'bidirectional': True, 'dropout': 0.3, 'hidden_size': 64, 'learning_rate': 0.01, 'num_layers': 3}, Accuracy: 0.6715\n",
      "Parameters: {'bidirectional': True, 'dropout': 0.3, 'hidden_size': 64, 'learning_rate': 0.1, 'num_layers': 1}, Accuracy: 0.6544\n",
      "Parameters: {'bidirectional': True, 'dropout': 0.3, 'hidden_size': 64, 'learning_rate': 0.1, 'num_layers': 2}, Accuracy: 0.6664\n",
      "Parameters: {'bidirectional': True, 'dropout': 0.3, 'hidden_size': 64, 'learning_rate': 0.1, 'num_layers': 3}, Accuracy: 0.6638\n",
      "Parameters: {'bidirectional': True, 'dropout': 0.3, 'hidden_size': 128, 'learning_rate': 0.001, 'num_layers': 1}, Accuracy: 0.6895\n",
      "Parameters: {'bidirectional': True, 'dropout': 0.3, 'hidden_size': 128, 'learning_rate': 0.001, 'num_layers': 2}, Accuracy: 0.6681\n",
      "Parameters: {'bidirectional': True, 'dropout': 0.3, 'hidden_size': 128, 'learning_rate': 0.001, 'num_layers': 3}, Accuracy: 0.6707\n",
      "Parameters: {'bidirectional': True, 'dropout': 0.3, 'hidden_size': 128, 'learning_rate': 0.01, 'num_layers': 1}, Accuracy: 0.6604\n",
      "Parameters: {'bidirectional': True, 'dropout': 0.3, 'hidden_size': 128, 'learning_rate': 0.01, 'num_layers': 2}, Accuracy: 0.6715\n",
      "Parameters: {'bidirectional': True, 'dropout': 0.3, 'hidden_size': 128, 'learning_rate': 0.01, 'num_layers': 3}, Accuracy: 0.6664\n",
      "Parameters: {'bidirectional': True, 'dropout': 0.3, 'hidden_size': 128, 'learning_rate': 0.1, 'num_layers': 1}, Accuracy: 0.6681\n",
      "Parameters: {'bidirectional': True, 'dropout': 0.3, 'hidden_size': 128, 'learning_rate': 0.1, 'num_layers': 2}, Accuracy: 0.6544\n",
      "Parameters: {'bidirectional': True, 'dropout': 0.3, 'hidden_size': 128, 'learning_rate': 0.1, 'num_layers': 3}, Accuracy: 0.5988\n",
      "Parameters: {'bidirectional': True, 'dropout': 0.5, 'hidden_size': 32, 'learning_rate': 0.001, 'num_layers': 1}, Accuracy: 0.7032\n",
      "Parameters: {'bidirectional': True, 'dropout': 0.5, 'hidden_size': 32, 'learning_rate': 0.001, 'num_layers': 2}, Accuracy: 0.6843\n",
      "Parameters: {'bidirectional': True, 'dropout': 0.5, 'hidden_size': 32, 'learning_rate': 0.001, 'num_layers': 3}, Accuracy: 0.6715\n",
      "Parameters: {'bidirectional': True, 'dropout': 0.5, 'hidden_size': 32, 'learning_rate': 0.01, 'num_layers': 1}, Accuracy: 0.6621\n",
      "Parameters: {'bidirectional': True, 'dropout': 0.5, 'hidden_size': 32, 'learning_rate': 0.01, 'num_layers': 2}, Accuracy: 0.6638\n",
      "Parameters: {'bidirectional': True, 'dropout': 0.5, 'hidden_size': 32, 'learning_rate': 0.01, 'num_layers': 3}, Accuracy: 0.6775\n",
      "Parameters: {'bidirectional': True, 'dropout': 0.5, 'hidden_size': 32, 'learning_rate': 0.1, 'num_layers': 1}, Accuracy: 0.6681\n",
      "Parameters: {'bidirectional': True, 'dropout': 0.5, 'hidden_size': 32, 'learning_rate': 0.1, 'num_layers': 2}, Accuracy: 0.6775\n",
      "Parameters: {'bidirectional': True, 'dropout': 0.5, 'hidden_size': 32, 'learning_rate': 0.1, 'num_layers': 3}, Accuracy: 0.6424\n",
      "Parameters: {'bidirectional': True, 'dropout': 0.5, 'hidden_size': 64, 'learning_rate': 0.001, 'num_layers': 1}, Accuracy: 0.7049\n",
      "Parameters: {'bidirectional': True, 'dropout': 0.5, 'hidden_size': 64, 'learning_rate': 0.001, 'num_layers': 2}, Accuracy: 0.6724\n",
      "Parameters: {'bidirectional': True, 'dropout': 0.5, 'hidden_size': 64, 'learning_rate': 0.001, 'num_layers': 3}, Accuracy: 0.6689\n",
      "Parameters: {'bidirectional': True, 'dropout': 0.5, 'hidden_size': 64, 'learning_rate': 0.01, 'num_layers': 1}, Accuracy: 0.6672\n",
      "Parameters: {'bidirectional': True, 'dropout': 0.5, 'hidden_size': 64, 'learning_rate': 0.01, 'num_layers': 2}, Accuracy: 0.6612\n",
      "Parameters: {'bidirectional': True, 'dropout': 0.5, 'hidden_size': 64, 'learning_rate': 0.01, 'num_layers': 3}, Accuracy: 0.6758\n",
      "Parameters: {'bidirectional': True, 'dropout': 0.5, 'hidden_size': 64, 'learning_rate': 0.1, 'num_layers': 1}, Accuracy: 0.6724\n",
      "Parameters: {'bidirectional': True, 'dropout': 0.5, 'hidden_size': 64, 'learning_rate': 0.1, 'num_layers': 2}, Accuracy: 0.6732\n",
      "Parameters: {'bidirectional': True, 'dropout': 0.5, 'hidden_size': 64, 'learning_rate': 0.1, 'num_layers': 3}, Accuracy: 0.6322\n",
      "Parameters: {'bidirectional': True, 'dropout': 0.5, 'hidden_size': 128, 'learning_rate': 0.001, 'num_layers': 1}, Accuracy: 0.6938\n",
      "Parameters: {'bidirectional': True, 'dropout': 0.5, 'hidden_size': 128, 'learning_rate': 0.001, 'num_layers': 2}, Accuracy: 0.6715\n",
      "Parameters: {'bidirectional': True, 'dropout': 0.5, 'hidden_size': 128, 'learning_rate': 0.001, 'num_layers': 3}, Accuracy: 0.6715\n",
      "Parameters: {'bidirectional': True, 'dropout': 0.5, 'hidden_size': 128, 'learning_rate': 0.01, 'num_layers': 1}, Accuracy: 0.6561\n",
      "Parameters: {'bidirectional': True, 'dropout': 0.5, 'hidden_size': 128, 'learning_rate': 0.01, 'num_layers': 2}, Accuracy: 0.6595\n",
      "Parameters: {'bidirectional': True, 'dropout': 0.5, 'hidden_size': 128, 'learning_rate': 0.01, 'num_layers': 3}, Accuracy: 0.6741\n",
      "Parameters: {'bidirectional': True, 'dropout': 0.5, 'hidden_size': 128, 'learning_rate': 0.1, 'num_layers': 1}, Accuracy: 0.6689\n",
      "Parameters: {'bidirectional': True, 'dropout': 0.5, 'hidden_size': 128, 'learning_rate': 0.1, 'num_layers': 2}, Accuracy: 0.6561\n",
      "Parameters: {'bidirectional': True, 'dropout': 0.5, 'hidden_size': 128, 'learning_rate': 0.1, 'num_layers': 3}, Accuracy: 0.5381\n",
      "Parameters: {'bidirectional': True, 'dropout': 0.7, 'hidden_size': 32, 'learning_rate': 0.001, 'num_layers': 1}, Accuracy: 0.6946\n",
      "Parameters: {'bidirectional': True, 'dropout': 0.7, 'hidden_size': 32, 'learning_rate': 0.001, 'num_layers': 2}, Accuracy: 0.6912\n",
      "Parameters: {'bidirectional': True, 'dropout': 0.7, 'hidden_size': 32, 'learning_rate': 0.001, 'num_layers': 3}, Accuracy: 0.6775\n",
      "Parameters: {'bidirectional': True, 'dropout': 0.7, 'hidden_size': 32, 'learning_rate': 0.01, 'num_layers': 1}, Accuracy: 0.6775\n",
      "Parameters: {'bidirectional': True, 'dropout': 0.7, 'hidden_size': 32, 'learning_rate': 0.01, 'num_layers': 2}, Accuracy: 0.6630\n",
      "Parameters: {'bidirectional': True, 'dropout': 0.7, 'hidden_size': 32, 'learning_rate': 0.01, 'num_layers': 3}, Accuracy: 0.6578\n",
      "Parameters: {'bidirectional': True, 'dropout': 0.7, 'hidden_size': 32, 'learning_rate': 0.1, 'num_layers': 1}, Accuracy: 0.6980\n",
      "Parameters: {'bidirectional': True, 'dropout': 0.7, 'hidden_size': 32, 'learning_rate': 0.1, 'num_layers': 2}, Accuracy: 0.6681\n",
      "Parameters: {'bidirectional': True, 'dropout': 0.7, 'hidden_size': 32, 'learning_rate': 0.1, 'num_layers': 3}, Accuracy: 0.6185\n",
      "Parameters: {'bidirectional': True, 'dropout': 0.7, 'hidden_size': 64, 'learning_rate': 0.001, 'num_layers': 1}, Accuracy: 0.7074\n",
      "Parameters: {'bidirectional': True, 'dropout': 0.7, 'hidden_size': 64, 'learning_rate': 0.001, 'num_layers': 2}, Accuracy: 0.6843\n",
      "Parameters: {'bidirectional': True, 'dropout': 0.7, 'hidden_size': 64, 'learning_rate': 0.001, 'num_layers': 3}, Accuracy: 0.6732\n",
      "Parameters: {'bidirectional': True, 'dropout': 0.7, 'hidden_size': 64, 'learning_rate': 0.01, 'num_layers': 1}, Accuracy: 0.6741\n",
      "Parameters: {'bidirectional': True, 'dropout': 0.7, 'hidden_size': 64, 'learning_rate': 0.01, 'num_layers': 2}, Accuracy: 0.6570\n",
      "Parameters: {'bidirectional': True, 'dropout': 0.7, 'hidden_size': 64, 'learning_rate': 0.01, 'num_layers': 3}, Accuracy: 0.6732\n",
      "Parameters: {'bidirectional': True, 'dropout': 0.7, 'hidden_size': 64, 'learning_rate': 0.1, 'num_layers': 1}, Accuracy: 0.6920\n",
      "Parameters: {'bidirectional': True, 'dropout': 0.7, 'hidden_size': 64, 'learning_rate': 0.1, 'num_layers': 2}, Accuracy: 0.6826\n",
      "Parameters: {'bidirectional': True, 'dropout': 0.7, 'hidden_size': 64, 'learning_rate': 0.1, 'num_layers': 3}, Accuracy: 0.6433\n",
      "Parameters: {'bidirectional': True, 'dropout': 0.7, 'hidden_size': 128, 'learning_rate': 0.001, 'num_layers': 1}, Accuracy: 0.6989\n",
      "Parameters: {'bidirectional': True, 'dropout': 0.7, 'hidden_size': 128, 'learning_rate': 0.001, 'num_layers': 2}, Accuracy: 0.6724\n",
      "Parameters: {'bidirectional': True, 'dropout': 0.7, 'hidden_size': 128, 'learning_rate': 0.001, 'num_layers': 3}, Accuracy: 0.6655\n",
      "Parameters: {'bidirectional': True, 'dropout': 0.7, 'hidden_size': 128, 'learning_rate': 0.01, 'num_layers': 1}, Accuracy: 0.6698\n",
      "Parameters: {'bidirectional': True, 'dropout': 0.7, 'hidden_size': 128, 'learning_rate': 0.01, 'num_layers': 2}, Accuracy: 0.6484\n",
      "Parameters: {'bidirectional': True, 'dropout': 0.7, 'hidden_size': 128, 'learning_rate': 0.01, 'num_layers': 3}, Accuracy: 0.6664\n",
      "Parameters: {'bidirectional': True, 'dropout': 0.7, 'hidden_size': 128, 'learning_rate': 0.1, 'num_layers': 1}, Accuracy: 0.6801\n",
      "Parameters: {'bidirectional': True, 'dropout': 0.7, 'hidden_size': 128, 'learning_rate': 0.1, 'num_layers': 2}, Accuracy: 0.6356\n",
      "Parameters: {'bidirectional': True, 'dropout': 0.7, 'hidden_size': 128, 'learning_rate': 0.1, 'num_layers': 3}, Accuracy: 0.3182\n",
      "Parameters: {'bidirectional': False, 'dropout': 0.3, 'hidden_size': 32, 'learning_rate': 0.001, 'num_layers': 1}, Accuracy: 0.6972\n",
      "Parameters: {'bidirectional': False, 'dropout': 0.3, 'hidden_size': 32, 'learning_rate': 0.001, 'num_layers': 2}, Accuracy: 0.6929\n",
      "Parameters: {'bidirectional': False, 'dropout': 0.3, 'hidden_size': 32, 'learning_rate': 0.001, 'num_layers': 3}, Accuracy: 0.6689\n",
      "Parameters: {'bidirectional': False, 'dropout': 0.3, 'hidden_size': 32, 'learning_rate': 0.01, 'num_layers': 1}, Accuracy: 0.6681\n",
      "Parameters: {'bidirectional': False, 'dropout': 0.3, 'hidden_size': 32, 'learning_rate': 0.01, 'num_layers': 2}, Accuracy: 0.6604\n",
      "Parameters: {'bidirectional': False, 'dropout': 0.3, 'hidden_size': 32, 'learning_rate': 0.01, 'num_layers': 3}, Accuracy: 0.6775\n",
      "Parameters: {'bidirectional': False, 'dropout': 0.3, 'hidden_size': 32, 'learning_rate': 0.1, 'num_layers': 1}, Accuracy: 0.6707\n",
      "Parameters: {'bidirectional': False, 'dropout': 0.3, 'hidden_size': 32, 'learning_rate': 0.1, 'num_layers': 2}, Accuracy: 0.6689\n",
      "Parameters: {'bidirectional': False, 'dropout': 0.3, 'hidden_size': 32, 'learning_rate': 0.1, 'num_layers': 3}, Accuracy: 0.6476\n",
      "Parameters: {'bidirectional': False, 'dropout': 0.3, 'hidden_size': 64, 'learning_rate': 0.001, 'num_layers': 1}, Accuracy: 0.7049\n",
      "Parameters: {'bidirectional': False, 'dropout': 0.3, 'hidden_size': 64, 'learning_rate': 0.001, 'num_layers': 2}, Accuracy: 0.6749\n",
      "Parameters: {'bidirectional': False, 'dropout': 0.3, 'hidden_size': 64, 'learning_rate': 0.001, 'num_layers': 3}, Accuracy: 0.6826\n",
      "Parameters: {'bidirectional': False, 'dropout': 0.3, 'hidden_size': 64, 'learning_rate': 0.01, 'num_layers': 1}, Accuracy: 0.6630\n",
      "Parameters: {'bidirectional': False, 'dropout': 0.3, 'hidden_size': 64, 'learning_rate': 0.01, 'num_layers': 2}, Accuracy: 0.6647\n",
      "Parameters: {'bidirectional': False, 'dropout': 0.3, 'hidden_size': 64, 'learning_rate': 0.01, 'num_layers': 3}, Accuracy: 0.6638\n",
      "Parameters: {'bidirectional': False, 'dropout': 0.3, 'hidden_size': 64, 'learning_rate': 0.1, 'num_layers': 1}, Accuracy: 0.6749\n",
      "Parameters: {'bidirectional': False, 'dropout': 0.3, 'hidden_size': 64, 'learning_rate': 0.1, 'num_layers': 2}, Accuracy: 0.6681\n",
      "Parameters: {'bidirectional': False, 'dropout': 0.3, 'hidden_size': 64, 'learning_rate': 0.1, 'num_layers': 3}, Accuracy: 0.6510\n",
      "Parameters: {'bidirectional': False, 'dropout': 0.3, 'hidden_size': 128, 'learning_rate': 0.001, 'num_layers': 1}, Accuracy: 0.6963\n",
      "Parameters: {'bidirectional': False, 'dropout': 0.3, 'hidden_size': 128, 'learning_rate': 0.001, 'num_layers': 2}, Accuracy: 0.6698\n",
      "Parameters: {'bidirectional': False, 'dropout': 0.3, 'hidden_size': 128, 'learning_rate': 0.001, 'num_layers': 3}, Accuracy: 0.6715\n",
      "Parameters: {'bidirectional': False, 'dropout': 0.3, 'hidden_size': 128, 'learning_rate': 0.01, 'num_layers': 1}, Accuracy: 0.6604\n",
      "Parameters: {'bidirectional': False, 'dropout': 0.3, 'hidden_size': 128, 'learning_rate': 0.01, 'num_layers': 2}, Accuracy: 0.6792\n",
      "Parameters: {'bidirectional': False, 'dropout': 0.3, 'hidden_size': 128, 'learning_rate': 0.01, 'num_layers': 3}, Accuracy: 0.6724\n",
      "Parameters: {'bidirectional': False, 'dropout': 0.3, 'hidden_size': 128, 'learning_rate': 0.1, 'num_layers': 1}, Accuracy: 0.6647\n",
      "Parameters: {'bidirectional': False, 'dropout': 0.3, 'hidden_size': 128, 'learning_rate': 0.1, 'num_layers': 2}, Accuracy: 0.6638\n",
      "Parameters: {'bidirectional': False, 'dropout': 0.3, 'hidden_size': 128, 'learning_rate': 0.1, 'num_layers': 3}, Accuracy: 0.6467\n",
      "Parameters: {'bidirectional': False, 'dropout': 0.5, 'hidden_size': 32, 'learning_rate': 0.001, 'num_layers': 1}, Accuracy: 0.6972\n",
      "Parameters: {'bidirectional': False, 'dropout': 0.5, 'hidden_size': 32, 'learning_rate': 0.001, 'num_layers': 2}, Accuracy: 0.6946\n",
      "Parameters: {'bidirectional': False, 'dropout': 0.5, 'hidden_size': 32, 'learning_rate': 0.001, 'num_layers': 3}, Accuracy: 0.6647\n",
      "Parameters: {'bidirectional': False, 'dropout': 0.5, 'hidden_size': 32, 'learning_rate': 0.01, 'num_layers': 1}, Accuracy: 0.6724\n",
      "Parameters: {'bidirectional': False, 'dropout': 0.5, 'hidden_size': 32, 'learning_rate': 0.01, 'num_layers': 2}, Accuracy: 0.6595\n",
      "Parameters: {'bidirectional': False, 'dropout': 0.5, 'hidden_size': 32, 'learning_rate': 0.01, 'num_layers': 3}, Accuracy: 0.6638\n",
      "Parameters: {'bidirectional': False, 'dropout': 0.5, 'hidden_size': 32, 'learning_rate': 0.1, 'num_layers': 1}, Accuracy: 0.6766\n",
      "Parameters: {'bidirectional': False, 'dropout': 0.5, 'hidden_size': 32, 'learning_rate': 0.1, 'num_layers': 2}, Accuracy: 0.6732\n",
      "Parameters: {'bidirectional': False, 'dropout': 0.5, 'hidden_size': 32, 'learning_rate': 0.1, 'num_layers': 3}, Accuracy: 0.6869\n",
      "Parameters: {'bidirectional': False, 'dropout': 0.5, 'hidden_size': 64, 'learning_rate': 0.001, 'num_layers': 1}, Accuracy: 0.7032\n",
      "Parameters: {'bidirectional': False, 'dropout': 0.5, 'hidden_size': 64, 'learning_rate': 0.001, 'num_layers': 2}, Accuracy: 0.6784\n",
      "Parameters: {'bidirectional': False, 'dropout': 0.5, 'hidden_size': 64, 'learning_rate': 0.001, 'num_layers': 3}, Accuracy: 0.6219\n",
      "Parameters: {'bidirectional': False, 'dropout': 0.5, 'hidden_size': 64, 'learning_rate': 0.01, 'num_layers': 1}, Accuracy: 0.6638\n",
      "Parameters: {'bidirectional': False, 'dropout': 0.5, 'hidden_size': 64, 'learning_rate': 0.01, 'num_layers': 2}, Accuracy: 0.6621\n",
      "Parameters: {'bidirectional': False, 'dropout': 0.5, 'hidden_size': 64, 'learning_rate': 0.01, 'num_layers': 3}, Accuracy: 0.6826\n",
      "Parameters: {'bidirectional': False, 'dropout': 0.5, 'hidden_size': 64, 'learning_rate': 0.1, 'num_layers': 1}, Accuracy: 0.6638\n",
      "Parameters: {'bidirectional': False, 'dropout': 0.5, 'hidden_size': 64, 'learning_rate': 0.1, 'num_layers': 2}, Accuracy: 0.6784\n",
      "Parameters: {'bidirectional': False, 'dropout': 0.5, 'hidden_size': 64, 'learning_rate': 0.1, 'num_layers': 3}, Accuracy: 0.6655\n",
      "Parameters: {'bidirectional': False, 'dropout': 0.5, 'hidden_size': 128, 'learning_rate': 0.001, 'num_layers': 1}, Accuracy: 0.6997\n",
      "Parameters: {'bidirectional': False, 'dropout': 0.5, 'hidden_size': 128, 'learning_rate': 0.001, 'num_layers': 2}, Accuracy: 0.6732\n",
      "Parameters: {'bidirectional': False, 'dropout': 0.5, 'hidden_size': 128, 'learning_rate': 0.001, 'num_layers': 3}, Accuracy: 0.6715\n",
      "Parameters: {'bidirectional': False, 'dropout': 0.5, 'hidden_size': 128, 'learning_rate': 0.01, 'num_layers': 1}, Accuracy: 0.6587\n",
      "Parameters: {'bidirectional': False, 'dropout': 0.5, 'hidden_size': 128, 'learning_rate': 0.01, 'num_layers': 2}, Accuracy: 0.6681\n",
      "Parameters: {'bidirectional': False, 'dropout': 0.5, 'hidden_size': 128, 'learning_rate': 0.01, 'num_layers': 3}, Accuracy: 0.6775\n",
      "Parameters: {'bidirectional': False, 'dropout': 0.5, 'hidden_size': 128, 'learning_rate': 0.1, 'num_layers': 1}, Accuracy: 0.6630\n",
      "Parameters: {'bidirectional': False, 'dropout': 0.5, 'hidden_size': 128, 'learning_rate': 0.1, 'num_layers': 2}, Accuracy: 0.6681\n",
      "Parameters: {'bidirectional': False, 'dropout': 0.5, 'hidden_size': 128, 'learning_rate': 0.1, 'num_layers': 3}, Accuracy: 0.6270\n",
      "Parameters: {'bidirectional': False, 'dropout': 0.7, 'hidden_size': 32, 'learning_rate': 0.001, 'num_layers': 1}, Accuracy: 0.6604\n",
      "Parameters: {'bidirectional': False, 'dropout': 0.7, 'hidden_size': 32, 'learning_rate': 0.001, 'num_layers': 2}, Accuracy: 0.6527\n",
      "Parameters: {'bidirectional': False, 'dropout': 0.7, 'hidden_size': 32, 'learning_rate': 0.001, 'num_layers': 3}, Accuracy: 0.6322\n",
      "Parameters: {'bidirectional': False, 'dropout': 0.7, 'hidden_size': 32, 'learning_rate': 0.01, 'num_layers': 1}, Accuracy: 0.6724\n",
      "Parameters: {'bidirectional': False, 'dropout': 0.7, 'hidden_size': 32, 'learning_rate': 0.01, 'num_layers': 2}, Accuracy: 0.6664\n",
      "Parameters: {'bidirectional': False, 'dropout': 0.7, 'hidden_size': 32, 'learning_rate': 0.01, 'num_layers': 3}, Accuracy: 0.6527\n",
      "Parameters: {'bidirectional': False, 'dropout': 0.7, 'hidden_size': 32, 'learning_rate': 0.1, 'num_layers': 1}, Accuracy: 0.6826\n",
      "Parameters: {'bidirectional': False, 'dropout': 0.7, 'hidden_size': 32, 'learning_rate': 0.1, 'num_layers': 2}, Accuracy: 0.6655\n",
      "Parameters: {'bidirectional': False, 'dropout': 0.7, 'hidden_size': 32, 'learning_rate': 0.1, 'num_layers': 3}, Accuracy: 0.6450\n",
      "Parameters: {'bidirectional': False, 'dropout': 0.7, 'hidden_size': 64, 'learning_rate': 0.001, 'num_layers': 1}, Accuracy: 0.7040\n",
      "Parameters: {'bidirectional': False, 'dropout': 0.7, 'hidden_size': 64, 'learning_rate': 0.001, 'num_layers': 2}, Accuracy: 0.6869\n",
      "Parameters: {'bidirectional': False, 'dropout': 0.7, 'hidden_size': 64, 'learning_rate': 0.001, 'num_layers': 3}, Accuracy: 0.6587\n",
      "Parameters: {'bidirectional': False, 'dropout': 0.7, 'hidden_size': 64, 'learning_rate': 0.01, 'num_layers': 1}, Accuracy: 0.6758\n",
      "Parameters: {'bidirectional': False, 'dropout': 0.7, 'hidden_size': 64, 'learning_rate': 0.01, 'num_layers': 2}, Accuracy: 0.6536\n",
      "Parameters: {'bidirectional': False, 'dropout': 0.7, 'hidden_size': 64, 'learning_rate': 0.01, 'num_layers': 3}, Accuracy: 0.6715\n",
      "Parameters: {'bidirectional': False, 'dropout': 0.7, 'hidden_size': 64, 'learning_rate': 0.1, 'num_layers': 1}, Accuracy: 0.6946\n",
      "Parameters: {'bidirectional': False, 'dropout': 0.7, 'hidden_size': 64, 'learning_rate': 0.1, 'num_layers': 2}, Accuracy: 0.6689\n",
      "Parameters: {'bidirectional': False, 'dropout': 0.7, 'hidden_size': 64, 'learning_rate': 0.1, 'num_layers': 3}, Accuracy: 0.6544\n",
      "Parameters: {'bidirectional': False, 'dropout': 0.7, 'hidden_size': 128, 'learning_rate': 0.001, 'num_layers': 1}, Accuracy: 0.6997\n",
      "Parameters: {'bidirectional': False, 'dropout': 0.7, 'hidden_size': 128, 'learning_rate': 0.001, 'num_layers': 2}, Accuracy: 0.6689\n",
      "Parameters: {'bidirectional': False, 'dropout': 0.7, 'hidden_size': 128, 'learning_rate': 0.001, 'num_layers': 3}, Accuracy: 0.6741\n",
      "Parameters: {'bidirectional': False, 'dropout': 0.7, 'hidden_size': 128, 'learning_rate': 0.01, 'num_layers': 1}, Accuracy: 0.6638\n",
      "Parameters: {'bidirectional': False, 'dropout': 0.7, 'hidden_size': 128, 'learning_rate': 0.01, 'num_layers': 2}, Accuracy: 0.6595\n",
      "Parameters: {'bidirectional': False, 'dropout': 0.7, 'hidden_size': 128, 'learning_rate': 0.01, 'num_layers': 3}, Accuracy: 0.6638\n",
      "Parameters: {'bidirectional': False, 'dropout': 0.7, 'hidden_size': 128, 'learning_rate': 0.1, 'num_layers': 1}, Accuracy: 0.6903\n",
      "Parameters: {'bidirectional': False, 'dropout': 0.7, 'hidden_size': 128, 'learning_rate': 0.1, 'num_layers': 2}, Accuracy: 0.6792\n",
      "Parameters: {'bidirectional': False, 'dropout': 0.7, 'hidden_size': 128, 'learning_rate': 0.1, 'num_layers': 3}, Accuracy: 0.6715\n",
      "Best Parameters: {'bidirectional': True, 'dropout': 0.7, 'hidden_size': 64, 'learning_rate': 0.001, 'num_layers': 1}\n",
      "Best Accuracy: 0.7074422583404619\n"
     ]
    }
   ],
   "source": [
    "from sklearn.model_selection import ParameterGrid\n",
    "\n",
    "# Define a grid of hyperparameters to search\n",
    "param_grid = {\n",
    "    'hidden_size': [32, 64, 128],\n",
    "    'num_layers': [1, 2, 3],\n",
    "    'bidirectional': [True, False],\n",
    "    'dropout': [0.3, 0.5, 0.7],\n",
    "    'learning_rate': [0.001, 0.01, 0.1],\n",
    "}\n",
    "\n",
    "best_accuracy = 0.0\n",
    "best_params = None\n",
    "\n",
    "# Perform grid search\n",
    "for params in ParameterGrid(param_grid):\n",
    "    model = RobustLSTM(input_size, params['hidden_size'], params['num_layers'],\n",
    "                       output_size, bidirectional=params['bidirectional'], dropout=params['dropout'])\n",
    "    optimizer = optim.Adam(model.parameters(), lr=params['learning_rate'])\n",
    "    scheduler = optim.lr_scheduler.StepLR(optimizer, step_size=5, gamma=0.1)\n",
    "\n",
    "    # Train the model\n",
    "    for epoch in range(num_epochs):\n",
    "        model.train()\n",
    "        for inputs, labels in train_loader:\n",
    "            optimizer.zero_grad()\n",
    "            outputs = model(inputs)\n",
    "            loss = criterion(outputs, labels)\n",
    "            loss.backward()\n",
    "            optimizer.step()\n",
    "\n",
    "        scheduler.step()\n",
    "\n",
    "    # Evaluate the model on the test set\n",
    "    model.eval()\n",
    "    with torch.no_grad():\n",
    "        test_outputs = model(X_test_tfidf)\n",
    "        _, predicted = torch.max(test_outputs, 1)\n",
    "\n",
    "    accuracy = accuracy_score(y_test, predicted.cpu())\n",
    "    print(f\"Parameters: {params}, Accuracy: {accuracy:.4f}\")\n",
    "\n",
    "    # Update best parameters if the current model is better\n",
    "    if accuracy > best_accuracy:\n",
    "        best_accuracy = accuracy\n",
    "        best_params = params\n",
    "\n",
    "print(\"Best Parameters:\", best_params)\n",
    "print(\"Best Accuracy:\", best_accuracy)"
   ]
  },
  {
   "cell_type": "markdown",
   "metadata": {},
   "source": [
    "## RNN"
   ]
  },
  {
   "cell_type": "code",
   "execution_count": 119,
   "metadata": {},
   "outputs": [
    {
     "ename": "AttributeError",
     "evalue": "'Tensor' object has no attribute 'toarray'",
     "output_type": "error",
     "traceback": [
      "\u001B[0;31m---------------------------------------------------------------------------\u001B[0m",
      "\u001B[0;31mAttributeError\u001B[0m                            Traceback (most recent call last)",
      "Cell \u001B[0;32mIn[119], line 2\u001B[0m\n\u001B[1;32m      1\u001B[0m \u001B[38;5;66;03m# Convert text data to PyTorch tensors\u001B[39;00m\n\u001B[0;32m----> 2\u001B[0m X_train_tfidf \u001B[38;5;241m=\u001B[39m torch\u001B[38;5;241m.\u001B[39mtensor(X_train_tfidf\u001B[38;5;241m.\u001B[39mtoarray(), dtype\u001B[38;5;241m=\u001B[39mtorch\u001B[38;5;241m.\u001B[39mfloat32)\n\u001B[1;32m      3\u001B[0m X_test_tfidf \u001B[38;5;241m=\u001B[39m torch\u001B[38;5;241m.\u001B[39mtensor(X_test_tfidf\u001B[38;5;241m.\u001B[39mtoarray(), dtype\u001B[38;5;241m=\u001B[39mtorch\u001B[38;5;241m.\u001B[39mfloat32)\n\u001B[1;32m      4\u001B[0m y_train \u001B[38;5;241m=\u001B[39m torch\u001B[38;5;241m.\u001B[39mtensor(y_train, dtype\u001B[38;5;241m=\u001B[39mtorch\u001B[38;5;241m.\u001B[39mlong)\n",
      "\u001B[0;31mAttributeError\u001B[0m: 'Tensor' object has no attribute 'toarray'"
     ]
    }
   ],
   "source": [
    "# Convert text data to PyTorch tensors\n",
    "X_train_tfidf = torch.tensor(X_train_tfidf.toarray(), dtype=torch.float32)\n",
    "X_test_tfidf = torch.tensor(X_test_tfidf.toarray(), dtype=torch.float32)\n",
    "y_train = torch.tensor(y_train, dtype=torch.long)\n",
    "y_test = torch.tensor(y_test, dtype=torch.long)\n",
    "\n",
    "# Create DataLoader for training and testing data\n",
    "train_dataset = TensorDataset(X_train_tfidf, y_train)\n",
    "test_dataset = TensorDataset(X_test_tfidf, y_test)\n",
    "train_loader = DataLoader(train_dataset, batch_size=32, shuffle=True)\n",
    "test_loader = DataLoader(test_dataset, batch_size=32, shuffle=False)"
   ]
  },
  {
   "cell_type": "code",
   "execution_count": 121,
   "metadata": {},
   "outputs": [],
   "source": [
    "\n",
    "# Define a simple RNN model\n",
    "class SimpleRNN(nn.Module):\n",
    "    def __init__(self, input_size, hidden_size, num_layers, output_size):\n",
    "        super(SimpleRNN, self).__init__()\n",
    "        self.rnn = nn.RNN(input_size, hidden_size, num_layers, batch_first=True)\n",
    "        self.fc = nn.Linear(hidden_size, output_size)\n",
    "\n",
    "    def forward(self, x):\n",
    "        out, _ = self.rnn(x)\n",
    "        out = self.fc(out[:, -1, :])  # Take the output from the last time step\n",
    "        return out\n",
    "\n",
    "# Set hyperparameters\n",
    "input_size = X_train_tfidf.shape[1]\n",
    "hidden_size = 64\n",
    "num_layers = 1\n",
    "output_size = len(torch.unique(y_train))\n",
    "\n",
    "# Instantiate the model, loss function, and optimizer\n",
    "model = SimpleRNN(input_size, hidden_size, num_layers, output_size)\n",
    "criterion = nn.CrossEntropyLoss()\n",
    "optimizer = optim.Adam(model.parameters(), lr=0.001)"
   ]
  },
  {
   "cell_type": "code",
   "execution_count": 122,
   "metadata": {},
   "outputs": [],
   "source": [
    "\n",
    "# Set hyperparameters\n",
    "input_size = X_train_tfidf.shape[1]\n",
    "hidden_size = 64\n",
    "num_layers = 1\n",
    "output_size = len(torch.unique(y_train))\n",
    "\n",
    "# Instantiate the model, loss function, and optimizer\n",
    "model = SimpleRNN(input_size, hidden_size, num_layers, output_size)\n",
    "criterion = nn.CrossEntropyLoss()\n",
    "optimizer = optim.Adam(model.parameters(), lr=0.001)\n",
    "\n",
    "# Train the RNN model\n",
    "num_epochs = 10\n",
    "train_losses = []\n",
    "\n",
    "for epoch in range(num_epochs):\n",
    "    model.train()\n",
    "    epoch_loss = 0.0\n",
    "    for inputs, labels in train_loader:\n",
    "        optimizer.zero_grad()\n",
    "\n",
    "        # Add a sequence dimension to the input\n",
    "        inputs = inputs.unsqueeze(1)\n",
    "\n",
    "        outputs = model(inputs)\n",
    "        loss = criterion(outputs, labels)\n",
    "        loss.backward()\n",
    "        optimizer.step()\n",
    "        epoch_loss += loss.item()\n",
    "    \n",
    "    train_losses.append(epoch_loss / len(train_loader))\n"
   ]
  },
  {
   "cell_type": "code",
   "execution_count": 123,
   "metadata": {},
   "outputs": [
    {
     "data": {
      "image/png": "[encoded data removed]",
      "text/plain": [
       "<Figure size 640x480 with 1 Axes>"
      ]
     },
     "metadata": {},
     "output_type": "display_data"
    },
    {
     "name": "stdout",
     "output_type": "stream",
     "text": [
      "Classification Report:\n",
      "               precision    recall  f1-score   support\n",
      "\n",
      "           0       0.31      0.24      0.27       175\n",
      "           1       0.71      0.76      0.73       622\n",
      "           2       0.72      0.72      0.72       372\n",
      "\n",
      "    accuracy                           0.67      1169\n",
      "   macro avg       0.58      0.57      0.57      1169\n",
      "weighted avg       0.65      0.67      0.66      1169\n",
      "\n",
      "Accuracy: 0.6672369546621043\n"
     ]
    }
   ],
   "source": [
    "import matplotlib.pyplot as plt\n",
    "\n",
    "# Plot the loss graph\n",
    "plt.plot(train_losses)\n",
    "plt.title('Training Loss')\n",
    "plt.xlabel('Epoch')\n",
    "plt.ylabel('Loss')\n",
    "plt.show()\n",
    "\n",
    "\n",
    "# Evaluate the model on the test set\n",
    "model.eval()\n",
    "with torch.no_grad():\n",
    "    # Add a sequence dimension to the test input\n",
    "    X_test_tfidf = X_test_tfidf.unsqueeze(1)\n",
    "    X_test_tfidf = X_test_tfidf\n",
    "\n",
    "    test_outputs = model(X_test_tfidf)\n",
    "    _, predicted = torch.max(test_outputs, 1)\n",
    "\n",
    "\n",
    "# Convert the PyTorch tensors back to NumPy arrays for sklearn metrics\n",
    "predicted = predicted.cpu().numpy()\n",
    "y_test = y_test.cpu().numpy()\n",
    "\n",
    "# Print classification report and accuracy\n",
    "print(\"Classification Report:\\n\", classification_report(y_test, predicted))\n",
    "print(\"Accuracy:\", accuracy_score(y_test, predicted))"
   ]
  },
  {
   "cell_type": "markdown",
   "metadata": {},
   "source": [
    "## RNN mais Robusto com GridSearch\n"
   ]
  },
  {
   "cell_type": "code",
   "execution_count": 126,
   "metadata": {},
   "outputs": [],
   "source": [
    "import torch\n",
    "import torch.nn as nn\n",
    "import torch.optim as optim\n",
    "from torch.utils.data import DataLoader, TensorDataset\n",
    "from sklearn.model_selection import GridSearchCV\n",
    "import matplotlib.pyplot as plt\n",
    "from sklearn.metrics import classification_report, accuracy_score\n",
    "\n",
    "# Assuming you have X_train_tfidf, X_test_tfidf, y_train, and y_test from your previous code\n",
    "\n",
    "# # Convert text data to PyTorch tensors\n",
    "# X_train_tfidf = torch.tensor(X_train_tfidf.toarray(), dtype=torch.float32)\n",
    "# X_test_tfidf = torch.tensor(X_test_tfidf.toarray(), dtype=torch.float32)\n",
    "# y_train = torch.tensor(y_train, dtype=torch.long)\n",
    "# y_test = torch.tensor(y_test, dtype=torch.long)\n",
    "\n",
    "# # Create DataLoader for training and testing data\n",
    "# train_dataset = TensorDataset(X_train_tfidf, y_train)\n",
    "# test_dataset = TensorDataset(X_test_tfidf, y_test)\n",
    "# train_loader = DataLoader(train_dataset, batch_size=32, shuffle=True)\n",
    "# test_loader = DataLoader(test_dataset, batch_size=32, shuffle=False)\n",
    "\n",
    "# Define a more robust RNN model\n",
    "class RobustRNN(nn.Module):\n",
    "    def __init__(self, input_size, hidden_size, num_layers, output_size, dropout_rate=0.0):\n",
    "        super(RobustRNN, self).__init__()\n",
    "        self.rnn = nn.RNN(input_size, hidden_size, num_layers, batch_first=True, dropout=dropout_rate)\n",
    "        self.fc = nn.Linear(hidden_size, output_size)\n",
    "\n",
    "    def forward(self, x):\n",
    "        out, _ = self.rnn(x)\n",
    "        out = self.fc(out[:, -1, :])  # Take the output from the last time step\n",
    "        return out"
   ]
  },
  {
   "cell_type": "code",
   "execution_count": 128,
   "metadata": {},
   "outputs": [
    {
     "ename": "InvalidParameterError",
     "evalue": "The 'estimator' parameter of GridSearchCV must be an object implementing 'fit'. Got PyTorchClassifier(\n  (base_model): RobustRNN(\n    (rnn): RNN(8587, 64, batch_first=True)\n    (fc): Linear(in_features=64, out_features=3, bias=True)\n  )\n) instead.",
     "output_type": "error",
     "traceback": [
      "\u001B[0;31m---------------------------------------------------------------------------\u001B[0m",
      "\u001B[0;31mInvalidParameterError\u001B[0m                     Traceback (most recent call last)",
      "Cell \u001B[0;32mIn[128], line 70\u001B[0m\n\u001B[1;32m     68\u001B[0m \u001B[38;5;66;03m# Use GridSearchCV for hyperparameter tuning\u001B[39;00m\n\u001B[1;32m     69\u001B[0m grid_search_model \u001B[38;5;241m=\u001B[39m GridSearchCV(wrapped_model, param_grid, cv\u001B[38;5;241m=\u001B[39m\u001B[38;5;241m3\u001B[39m)\n\u001B[0;32m---> 70\u001B[0m grid_search_model\u001B[38;5;241m.\u001B[39mfit(X_train_tfidf, y_train)\n\u001B[1;32m     72\u001B[0m \u001B[38;5;66;03m# Get the best model from grid search\u001B[39;00m\n\u001B[1;32m     73\u001B[0m best_model \u001B[38;5;241m=\u001B[39m grid_search_model\u001B[38;5;241m.\u001B[39mbest_estimator_\u001B[38;5;241m.\u001B[39mbase_model\n",
      "File \u001B[0;32m~/anaconda3/lib/python3.11/site-packages/sklearn/base.py:1144\u001B[0m, in \u001B[0;36m_fit_context.<locals>.decorator.<locals>.wrapper\u001B[0;34m(estimator, *args, **kwargs)\u001B[0m\n\u001B[1;32m   1139\u001B[0m partial_fit_and_fitted \u001B[38;5;241m=\u001B[39m (\n\u001B[1;32m   1140\u001B[0m     fit_method\u001B[38;5;241m.\u001B[39m\u001B[38;5;18m__name__\u001B[39m \u001B[38;5;241m==\u001B[39m \u001B[38;5;124m\"\u001B[39m\u001B[38;5;124mpartial_fit\u001B[39m\u001B[38;5;124m\"\u001B[39m \u001B[38;5;129;01mand\u001B[39;00m _is_fitted(estimator)\n\u001B[1;32m   1141\u001B[0m )\n\u001B[1;32m   1143\u001B[0m \u001B[38;5;28;01mif\u001B[39;00m \u001B[38;5;129;01mnot\u001B[39;00m global_skip_validation \u001B[38;5;129;01mand\u001B[39;00m \u001B[38;5;129;01mnot\u001B[39;00m partial_fit_and_fitted:\n\u001B[0;32m-> 1144\u001B[0m     estimator\u001B[38;5;241m.\u001B[39m_validate_params()\n\u001B[1;32m   1146\u001B[0m \u001B[38;5;28;01mwith\u001B[39;00m config_context(\n\u001B[1;32m   1147\u001B[0m     skip_parameter_validation\u001B[38;5;241m=\u001B[39m(\n\u001B[1;32m   1148\u001B[0m         prefer_skip_nested_validation \u001B[38;5;129;01mor\u001B[39;00m global_skip_validation\n\u001B[1;32m   1149\u001B[0m     )\n\u001B[1;32m   1150\u001B[0m ):\n\u001B[1;32m   1151\u001B[0m     \u001B[38;5;28;01mreturn\u001B[39;00m fit_method(estimator, \u001B[38;5;241m*\u001B[39margs, \u001B[38;5;241m*\u001B[39m\u001B[38;5;241m*\u001B[39mkwargs)\n",
      "File \u001B[0;32m~/anaconda3/lib/python3.11/site-packages/sklearn/base.py:637\u001B[0m, in \u001B[0;36mBaseEstimator._validate_params\u001B[0;34m(self)\u001B[0m\n\u001B[1;32m    629\u001B[0m \u001B[38;5;28;01mdef\u001B[39;00m \u001B[38;5;21m_validate_params\u001B[39m(\u001B[38;5;28mself\u001B[39m):\n\u001B[1;32m    630\u001B[0m \u001B[38;5;250m    \u001B[39m\u001B[38;5;124;03m\"\"\"Validate types and values of constructor parameters\u001B[39;00m\n\u001B[1;32m    631\u001B[0m \n\u001B[1;32m    632\u001B[0m \u001B[38;5;124;03m    The expected type and values must be defined in the `_parameter_constraints`\u001B[39;00m\n\u001B[0;32m   (...)\u001B[0m\n\u001B[1;32m    635\u001B[0m \u001B[38;5;124;03m    accepted constraints.\u001B[39;00m\n\u001B[1;32m    636\u001B[0m \u001B[38;5;124;03m    \"\"\"\u001B[39;00m\n\u001B[0;32m--> 637\u001B[0m     validate_parameter_constraints(\n\u001B[1;32m    638\u001B[0m         \u001B[38;5;28mself\u001B[39m\u001B[38;5;241m.\u001B[39m_parameter_constraints,\n\u001B[1;32m    639\u001B[0m         \u001B[38;5;28mself\u001B[39m\u001B[38;5;241m.\u001B[39mget_params(deep\u001B[38;5;241m=\u001B[39m\u001B[38;5;28;01mFalse\u001B[39;00m),\n\u001B[1;32m    640\u001B[0m         caller_name\u001B[38;5;241m=\u001B[39m\u001B[38;5;28mself\u001B[39m\u001B[38;5;241m.\u001B[39m\u001B[38;5;18m__class__\u001B[39m\u001B[38;5;241m.\u001B[39m\u001B[38;5;18m__name__\u001B[39m,\n\u001B[1;32m    641\u001B[0m     )\n",
      "File \u001B[0;32m~/anaconda3/lib/python3.11/site-packages/sklearn/utils/_param_validation.py:95\u001B[0m, in \u001B[0;36mvalidate_parameter_constraints\u001B[0;34m(parameter_constraints, params, caller_name)\u001B[0m\n\u001B[1;32m     89\u001B[0m \u001B[38;5;28;01melse\u001B[39;00m:\n\u001B[1;32m     90\u001B[0m     constraints_str \u001B[38;5;241m=\u001B[39m (\n\u001B[1;32m     91\u001B[0m         \u001B[38;5;124mf\u001B[39m\u001B[38;5;124m\"\u001B[39m\u001B[38;5;132;01m{\u001B[39;00m\u001B[38;5;124m'\u001B[39m\u001B[38;5;124m, \u001B[39m\u001B[38;5;124m'\u001B[39m\u001B[38;5;241m.\u001B[39mjoin([\u001B[38;5;28mstr\u001B[39m(c)\u001B[38;5;250m \u001B[39m\u001B[38;5;28;01mfor\u001B[39;00m\u001B[38;5;250m \u001B[39mc\u001B[38;5;250m \u001B[39m\u001B[38;5;129;01min\u001B[39;00m\u001B[38;5;250m \u001B[39mconstraints[:\u001B[38;5;241m-\u001B[39m\u001B[38;5;241m1\u001B[39m]])\u001B[38;5;132;01m}\u001B[39;00m\u001B[38;5;124m or\u001B[39m\u001B[38;5;124m\"\u001B[39m\n\u001B[1;32m     92\u001B[0m         \u001B[38;5;124mf\u001B[39m\u001B[38;5;124m\"\u001B[39m\u001B[38;5;124m \u001B[39m\u001B[38;5;132;01m{\u001B[39;00mconstraints[\u001B[38;5;241m-\u001B[39m\u001B[38;5;241m1\u001B[39m]\u001B[38;5;132;01m}\u001B[39;00m\u001B[38;5;124m\"\u001B[39m\n\u001B[1;32m     93\u001B[0m     )\n\u001B[0;32m---> 95\u001B[0m \u001B[38;5;28;01mraise\u001B[39;00m InvalidParameterError(\n\u001B[1;32m     96\u001B[0m     \u001B[38;5;124mf\u001B[39m\u001B[38;5;124m\"\u001B[39m\u001B[38;5;124mThe \u001B[39m\u001B[38;5;132;01m{\u001B[39;00mparam_name\u001B[38;5;132;01m!r}\u001B[39;00m\u001B[38;5;124m parameter of \u001B[39m\u001B[38;5;132;01m{\u001B[39;00mcaller_name\u001B[38;5;132;01m}\u001B[39;00m\u001B[38;5;124m must be\u001B[39m\u001B[38;5;124m\"\u001B[39m\n\u001B[1;32m     97\u001B[0m     \u001B[38;5;124mf\u001B[39m\u001B[38;5;124m\"\u001B[39m\u001B[38;5;124m \u001B[39m\u001B[38;5;132;01m{\u001B[39;00mconstraints_str\u001B[38;5;132;01m}\u001B[39;00m\u001B[38;5;124m. Got \u001B[39m\u001B[38;5;132;01m{\u001B[39;00mparam_val\u001B[38;5;132;01m!r}\u001B[39;00m\u001B[38;5;124m instead.\u001B[39m\u001B[38;5;124m\"\u001B[39m\n\u001B[1;32m     98\u001B[0m )\n",
      "\u001B[0;31mInvalidParameterError\u001B[0m: The 'estimator' parameter of GridSearchCV must be an object implementing 'fit'. Got PyTorchClassifier(\n  (base_model): RobustRNN(\n    (rnn): RNN(8587, 64, batch_first=True)\n    (fc): Linear(in_features=64, out_features=3, bias=True)\n  )\n) instead."
     ]
    }
   ],
   "source": [
    "# Create a function to train and # Convert text data to PyTorch tensors\n",
    "# X_train_tfidf = torch.tensor(X_train_tfidf.toarray(), dtype=torch.float32)\n",
    "# X_test_tfidf = torch.tensor(X_test_tfidf.toarray(), dtype=torch.float32)\n",
    "# y_train = torch.tensor(y_train, dtype=torch.long)\n",
    "# y_test = torch.tensor(y_test, dtype=torch.long)\n",
    "\n",
    "# # Create DataLoader for training and testing data\n",
    "# train_dataset = TensorDataset(X_train_tfidf, y_train)\n",
    "# test_dataset = TensorDataset(X_test_tfidf, y_test)\n",
    "# train_loader = DataLoader(train_dataset, batch_size=32, shuffle=True)\n",
    "# test_loader = DataLoader(test_dataset, batch_size=32, shuffle=False)evaluate the model\n",
    "def train_and_evaluate(model, train_loader, test_loader, criterion, optimizer, num_epochs=10):\n",
    "    train_losses = []\n",
    "    val_losses = []\n",
    "\n",
    "    for epoch in range(num_epochs):\n",
    "        model.train()\n",
    "        epoch_train_loss = 0.0\n",
    "        for inputs, labels in train_loader:\n",
    "            optimizer.zero_grad()\n",
    "            outputs = model(inputs)\n",
    "            loss = criterion(outputs, labels)\n",
    "            loss.backward()\n",
    "            optimizer.step()\n",
    "            epoch_train_loss += loss.item()\n",
    "\n",
    "        train_losses.append(epoch_train_loss / len(train_loader))\n",
    "\n",
    "        # Validation loss\n",
    "        model.eval()\n",
    "        with torch.no_grad():\n",
    "            epoch_val_loss = 0.0\n",
    "            for val_inputs, val_labels in test_loader:\n",
    "                val_outputs = model(val_inputs)\n",
    "                val_loss = criterion(val_outputs, val_labels)\n",
    "                epoch_val_loss += val_loss.item()\n",
    "\n",
    "            val_losses.append(epoch_val_loss / len(test_loader))\n",
    "\n",
    "        print(f\"Epoch {epoch+1}/{num_epochs}, Train Loss: {train_losses[-1]}, Validation Loss: {val_losses[-1]}\")\n",
    "\n",
    "    return train_losses, val_losses\n",
    "\n",
    "# Set hyperparameters for grid search\n",
    "param_grid = {\n",
    "    'hidden_size': [32, 64, 128],\n",
    "    'num_layers': [1, 2],\n",
    "    'dropout_rate': [0.0, 0.1, 0.2],\n",
    "}\n",
    "\n",
    "# Instantiate the model, loss function, and optimizer\n",
    "base_model = RobustRNN(input_size, hidden_size, num_layers, output_size)\n",
    "base_criterion = nn.CrossEntropyLoss()\n",
    "base_optimizer = optim.Adam(base_model.parameters(), lr=0.001)\n",
    "\n",
    "# Wrap the model for use with GridSearchCV\n",
    "class PyTorchClassifier(nn.Module):\n",
    "    def __init__(self, base_model):\n",
    "        super(PyTorchClassifier, self).__init__()\n",
    "        self.base_model = base_model\n",
    "\n",
    "    def forward(self, x):\n",
    "        return self.base_model(x)\n",
    "\n",
    "# Create PyTorch model wrapper\n",
    "wrapped_model = PyTorchClassifier(base_model)\n",
    "\n",
    "# Use GridSearchCV for hyperparameter tuning\n",
    "grid_search_model = GridSearchCV(wrapped_model, param_grid, cv=3)\n",
    "grid_search_model.fit(X_train_tfidf, y_train)\n",
    "\n",
    "# Get the best model from grid search\n",
    "best_model = grid_search_model.best_estimator_.base_model\n",
    "\n",
    "# Train and evaluate the best model\n",
    "best_criterion = nn.CrossEntropyLoss()\n",
    "best_optimizer = optim.Adam(best_model.parameters(), lr=0.001)\n",
    "\n",
    "num_epochs = 10\n",
    "train_losses, val_losses = train_and_evaluate(best_model, train_loader, test_loader, best_criterion, best_optimizer, num_epochs)"
   ]
  },
  {
   "cell_type": "code",
   "execution_count": null,
   "metadata": {},
   "outputs": [],
   "source": [
    "# Plot the training and validation loss curves\n",
    "plt.plot(train_losses, label='Training Loss')\n",
    "plt.plot(val_losses, label='Validation Loss')\n",
    "plt.title('Training and Validation Loss')\n",
    "plt.xlabel('Epoch')\n",
    "plt.ylabel('Loss')\n",
    "plt.legend()\n",
    "plt.show()\n",
    "\n",
    "# Evaluate the model on the test set\n",
    "best_model.eval()\n",
    "with torch.no_grad():\n",
    "    test_outputs = best_model(X_test_tfidf)\n",
    "    _, predicted = torch.max(test_outputs, 1)\n",
    "\n",
    "# Convert the PyTorch tensors back to NumPy arrays for sklearn metrics\n",
    "predicted = predicted.numpy()\n",
    "y_test = y_test.numpy()\n",
    "\n",
    "# Print classification report and accuracy\n",
    "print(\"Classification Report:\\n\", classification_report(y_test, predicted))\n",
    "print(\"Accuracy:\", accuracy_score(y_test, predicted))"
   ]
  },
  {
   "cell_type": "markdown",
   "metadata": {},
   "source": [
    "## Mulher do Kaggle"
   ]
  },
  {
   "cell_type": "code",
   "execution_count": null,
   "metadata": {
    "ExecuteTime": {
     "end_time": "2023-11-21T23:41:52.068767629Z",
     "start_time": "2023-11-21T23:41:51.997490993Z"
    },
    "collapsed": false,
    "jupyter": {
     "outputs_hidden": false
    },
    "tags": []
   },
   "outputs": [],
   "source": [
    "# IMportando CountVectorizer\n",
    "from sklearn.feature_extraction.text import CountVectorizer\n",
    "\n",
    "bow_model = CountVectorizer()\n",
    "bow_df = pd.DataFrame(bow_model.fit_transform(df['data']).todense())\n",
    "bow_df.columns = sorted(bow_model.vocabulary_)\n",
    "bow_df"
   ]
  },
  {
   "cell_type": "code",
   "execution_count": null,
   "metadata": {
    "tags": []
   },
   "outputs": [],
   "source": [
    "X_train, X_test, y_train, y_test = train_test_split(bow_df, df['label'], test_size=0.2, random_state=42)"
   ]
  },
  {
   "cell_type": "code",
   "execution_count": null,
   "metadata": {
    "tags": []
   },
   "outputs": [],
   "source": [
    "from sklearn.metrics import accuracy_score\n",
    "\n",
    "accuracy = accuracy_score(y_test, predicted_labels)*100\n",
    "print(\"Accuracy:\", accuracy)"
   ]
  },
  {
   "cell_type": "code",
   "execution_count": null,
   "metadata": {},
   "outputs": [],
   "source": []
  },
  {
   "cell_type": "code",
   "execution_count": 192,
   "metadata": {},
   "outputs": [
    {
     "ename": "IndexError",
     "evalue": "too many indices for tensor of dimension 2",
     "output_type": "error",
     "traceback": [
      "\u001B[0;31m---------------------------------------------------------------------------\u001B[0m",
      "\u001B[0;31mIndexError\u001B[0m                                Traceback (most recent call last)",
      "Cell \u001B[0;32mIn[192], line 61\u001B[0m\n\u001B[1;32m     59\u001B[0m \u001B[38;5;28;01mfor\u001B[39;00m inputs, labels \u001B[38;5;129;01min\u001B[39;00m train_loader:\n\u001B[1;32m     60\u001B[0m     optimizer\u001B[38;5;241m.\u001B[39mzero_grad()\n\u001B[0;32m---> 61\u001B[0m     outputs \u001B[38;5;241m=\u001B[39m model(inputs)\n\u001B[1;32m     62\u001B[0m     loss \u001B[38;5;241m=\u001B[39m criterion(outputs, labels)\n\u001B[1;32m     63\u001B[0m     loss\u001B[38;5;241m.\u001B[39mbackward()\n",
      "File \u001B[0;32m~/anaconda3/lib/python3.11/site-packages/torch/nn/modules/module.py:1518\u001B[0m, in \u001B[0;36mModule._wrapped_call_impl\u001B[0;34m(self, *args, **kwargs)\u001B[0m\n\u001B[1;32m   1516\u001B[0m     \u001B[38;5;28;01mreturn\u001B[39;00m \u001B[38;5;28mself\u001B[39m\u001B[38;5;241m.\u001B[39m_compiled_call_impl(\u001B[38;5;241m*\u001B[39margs, \u001B[38;5;241m*\u001B[39m\u001B[38;5;241m*\u001B[39mkwargs)  \u001B[38;5;66;03m# type: ignore[misc]\u001B[39;00m\n\u001B[1;32m   1517\u001B[0m \u001B[38;5;28;01melse\u001B[39;00m:\n\u001B[0;32m-> 1518\u001B[0m     \u001B[38;5;28;01mreturn\u001B[39;00m \u001B[38;5;28mself\u001B[39m\u001B[38;5;241m.\u001B[39m_call_impl(\u001B[38;5;241m*\u001B[39margs, \u001B[38;5;241m*\u001B[39m\u001B[38;5;241m*\u001B[39mkwargs)\n",
      "File \u001B[0;32m~/anaconda3/lib/python3.11/site-packages/torch/nn/modules/module.py:1527\u001B[0m, in \u001B[0;36mModule._call_impl\u001B[0;34m(self, *args, **kwargs)\u001B[0m\n\u001B[1;32m   1522\u001B[0m \u001B[38;5;66;03m# If we don't have any hooks, we want to skip the rest of the logic in\u001B[39;00m\n\u001B[1;32m   1523\u001B[0m \u001B[38;5;66;03m# this function, and just call forward.\u001B[39;00m\n\u001B[1;32m   1524\u001B[0m \u001B[38;5;28;01mif\u001B[39;00m \u001B[38;5;129;01mnot\u001B[39;00m (\u001B[38;5;28mself\u001B[39m\u001B[38;5;241m.\u001B[39m_backward_hooks \u001B[38;5;129;01mor\u001B[39;00m \u001B[38;5;28mself\u001B[39m\u001B[38;5;241m.\u001B[39m_backward_pre_hooks \u001B[38;5;129;01mor\u001B[39;00m \u001B[38;5;28mself\u001B[39m\u001B[38;5;241m.\u001B[39m_forward_hooks \u001B[38;5;129;01mor\u001B[39;00m \u001B[38;5;28mself\u001B[39m\u001B[38;5;241m.\u001B[39m_forward_pre_hooks\n\u001B[1;32m   1525\u001B[0m         \u001B[38;5;129;01mor\u001B[39;00m _global_backward_pre_hooks \u001B[38;5;129;01mor\u001B[39;00m _global_backward_hooks\n\u001B[1;32m   1526\u001B[0m         \u001B[38;5;129;01mor\u001B[39;00m _global_forward_hooks \u001B[38;5;129;01mor\u001B[39;00m _global_forward_pre_hooks):\n\u001B[0;32m-> 1527\u001B[0m     \u001B[38;5;28;01mreturn\u001B[39;00m forward_call(\u001B[38;5;241m*\u001B[39margs, \u001B[38;5;241m*\u001B[39m\u001B[38;5;241m*\u001B[39mkwargs)\n\u001B[1;32m   1529\u001B[0m \u001B[38;5;28;01mtry\u001B[39;00m:\n\u001B[1;32m   1530\u001B[0m     result \u001B[38;5;241m=\u001B[39m \u001B[38;5;28;01mNone\u001B[39;00m\n",
      "Cell \u001B[0;32mIn[192], line 34\u001B[0m, in \u001B[0;36mRobustRNN.forward\u001B[0;34m(self, x)\u001B[0m\n\u001B[1;32m     32\u001B[0m \u001B[38;5;28;01mdef\u001B[39;00m \u001B[38;5;21mforward\u001B[39m(\u001B[38;5;28mself\u001B[39m, x):\n\u001B[1;32m     33\u001B[0m     out, _ \u001B[38;5;241m=\u001B[39m \u001B[38;5;28mself\u001B[39m\u001B[38;5;241m.\u001B[39mlstm(x)\n\u001B[0;32m---> 34\u001B[0m     out \u001B[38;5;241m=\u001B[39m \u001B[38;5;28mself\u001B[39m\u001B[38;5;241m.\u001B[39mfc(out[:, \u001B[38;5;241m-\u001B[39m\u001B[38;5;241m1\u001B[39m, :])  \u001B[38;5;66;03m# Take the output from the last time step\u001B[39;00m\n\u001B[1;32m     35\u001B[0m     \u001B[38;5;28;01mreturn\u001B[39;00m out\n",
      "File \u001B[0;32m~/anaconda3/lib/python3.11/site-packages/torch/utils/_device.py:77\u001B[0m, in \u001B[0;36mDeviceContext.__torch_function__\u001B[0;34m(self, func, types, args, kwargs)\u001B[0m\n\u001B[1;32m     75\u001B[0m \u001B[38;5;28;01mif\u001B[39;00m func \u001B[38;5;129;01min\u001B[39;00m _device_constructors() \u001B[38;5;129;01mand\u001B[39;00m kwargs\u001B[38;5;241m.\u001B[39mget(\u001B[38;5;124m'\u001B[39m\u001B[38;5;124mdevice\u001B[39m\u001B[38;5;124m'\u001B[39m) \u001B[38;5;129;01mis\u001B[39;00m \u001B[38;5;28;01mNone\u001B[39;00m:\n\u001B[1;32m     76\u001B[0m     kwargs[\u001B[38;5;124m'\u001B[39m\u001B[38;5;124mdevice\u001B[39m\u001B[38;5;124m'\u001B[39m] \u001B[38;5;241m=\u001B[39m \u001B[38;5;28mself\u001B[39m\u001B[38;5;241m.\u001B[39mdevice\n\u001B[0;32m---> 77\u001B[0m \u001B[38;5;28;01mreturn\u001B[39;00m func(\u001B[38;5;241m*\u001B[39margs, \u001B[38;5;241m*\u001B[39m\u001B[38;5;241m*\u001B[39mkwargs)\n",
      "\u001B[0;31mIndexError\u001B[0m: too many indices for tensor of dimension 2"
     ]
    }
   ],
   "source": [
    "import torch\n",
    "import torch.nn as nn\n",
    "import torch.optim as optim\n",
    "import matplotlib.pyplot as plt\n",
    "from sklearn.metrics import classification_report, accuracy_score\n",
    "from torch.utils.data import DataLoader, TensorDataset\n",
    "\n",
    "# Assuming you have X_train_tfidf, X_test_tfidf, y_train, and y_test from your previous code\n",
    "\n",
    "X_train_tfidf=X_puro_train_tfidf\n",
    "X_test_tfidf=X_puro_test_tfidf\n",
    "\n",
    "# Convert text data to PyTorch tensors\n",
    "X_train_tfidf = torch.tensor(X_train_tfidf.toarray(), dtype=torch.float32)\n",
    "X_test_tfidf = torch.tensor(X_test_tfidf.toarray(), dtype=torch.float32)\n",
    "y_train = torch.tensor(y_train, dtype=torch.long)\n",
    "y_test = torch.tensor(y_test, dtype=torch.long)\n",
    "\n",
    "# Create DataLoader for training and testing data\n",
    "train_dataset = TensorDataset(X_train_tfidf, y_train)\n",
    "test_dataset = TensorDataset(X_test_tfidf, y_test)\n",
    "train_loader = DataLoader(train_dataset, batch_size=32, shuffle=False)\n",
    "test_loader = DataLoader(test_dataset, batch_size=32, shuffle=False)\n",
    "\n",
    "# Define a more robust RNN model with LSTM\n",
    "class RobustRNN(nn.Module):\n",
    "    def __init__(self, input_size, hidden_size, num_layers, output_size):\n",
    "        super(RobustRNN, self).__init__()\n",
    "        self.lstm = nn.LSTM(input_size, hidden_size, num_layers, batch_first=True, dropout=0.5)\n",
    "        self.fc = nn.Linear(hidden_size, output_size)\n",
    "\n",
    "    def forward(self, x):\n",
    "        out, _ = self.lstm(x)\n",
    "        out = self.fc(out[:, -1, :])  # Take the output from the last time step\n",
    "        return out\n",
    "\n",
    "# Set hyperparameters\n",
    "input_size = X_train_tfidf.shape[1]\n",
    "hidden_size = 64\n",
    "num_layers = 2  # Increase the number of layers for a more complex model\n",
    "output_size = len(torch.unique(y_train))\n",
    "\n",
    "# Instantiate the model, loss function, and optimizer\n",
    "model = RobustRNN(input_size, hidden_size, num_layers, output_size)\n",
    "criterion = nn.CrossEntropyLoss()\n",
    "optimizer = optim.Adam(model.parameters(), lr=0.001)\n",
    "\n",
    "# Train the RNN model with visualization of training loss and accuracy\n",
    "num_epochs = 10\n",
    "train_losses = []\n",
    "train_accuracies = []\n",
    "\n",
    "for epoch in range(num_epochs):\n",
    "    model.train()\n",
    "    epoch_loss = 0.0\n",
    "    correct_predictions = 0\n",
    "    total_samples = 0\n",
    "\n",
    "    for inputs, labels in train_loader:\n",
    "        optimizer.zero_grad()\n",
    "        outputs = model(inputs)\n",
    "        loss = criterion(outputs, labels)\n",
    "        loss.backward()\n",
    "        optimizer.step()\n",
    "\n",
    "        # Calculate accuracy\n",
    "        _, predicted = torch.max(outputs, 1)\n",
    "        correct_predictions += (predicted == labels).sum().item()\n",
    "        total_samples += labels.size(0)\n",
    "\n",
    "        epoch_loss += loss.item()\n",
    "\n",
    "    # Average loss and accuracy for the epoch\n",
    "    average_loss = epoch_loss / len(train_loader)\n",
    "    accuracy = correct_predictions / total_samples\n",
    "\n",
    "    # Store the values for visualization\n",
    "    train_losses.append(average_loss)\n",
    "    train_accuracies.append(accuracy)\n",
    "\n",
    "    print(f\"Epoch {epoch + 1}/{num_epochs} => Loss: {average_loss:.4f}, Accuracy: {accuracy:.4f}\")\n",
    "\n",
    "# Plot the training loss and accuracy\n",
    "plt.figure(figsize=(12, 4))\n",
    "plt.subplot(1, 2, 1)\n",
    "plt.plot(train_losses, label='Training Loss')\n",
    "plt.title('Training Loss')\n",
    "plt.xlabel('Epoch')\n",
    "plt.ylabel('Loss')\n",
    "plt.legend()\n",
    "\n",
    "plt.subplot(1, 2, 2)\n",
    "plt.plot(train_accuracies, label='Training Accuracy', color='orange')\n",
    "plt.title('Training Accuracy')\n",
    "plt.xlabel('Epoch')\n",
    "plt.ylabel('Accuracy')\n",
    "plt.legend()\n",
    "\n",
    "plt.tight_layout()\n",
    "plt.show()\n",
    "\n",
    "# Evaluate the model on the test set\n",
    "model.eval()\n",
    "with torch.no_grad():\n",
    "    test_outputs = model(X_test_tfidf)\n",
    "    _, predicted = torch.max(test_outputs, 1)\n",
    "\n",
    "# Convert the PyTorch tensors back to NumPy arrays for sklearn metrics\n",
    "predicted = predicted.numpy()\n",
    "y_test = y_test.numpy()\n",
    "\n",
    "# Print classification report and accuracy\n",
    "print(\"Classification Report:\\n\", classification_report(y_test, predicted))\n",
    "print(\"Accuracy:\", accuracy_score(y_test, predicted))\n"
   ]
  },
  {
   "cell_type": "code",
   "execution_count": null,
   "metadata": {},
   "outputs": [],
   "source": []
  }
 ],
 "metadata": {
  "kernelspec": {
   "display_name": "Python 3 (ipykernel)",
   "language": "python",
   "name": "python3"
  },
  "language_info": {
   "codemirror_mode": {
    "name": "ipython",
    "version": 3
   },
   "file_extension": ".py",
   "mimetype": "text/x-python",
   "name": "python",
   "nbconvert_exporter": "python",
   "pygments_lexer": "ipython3",
   "version": "3.11.4"
  }
 },
 "nbformat": 4,
 "nbformat_minor": 4
}
