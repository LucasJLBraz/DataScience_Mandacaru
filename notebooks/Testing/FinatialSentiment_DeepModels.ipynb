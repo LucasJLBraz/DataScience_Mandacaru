{
 "cells": [
  {
   "metadata": {},
   "cell_type": "markdown",
   "source": [
    "# Análise de Sentimento Financeiro - BERT\n",
    "\n",
    "Este notebook é a continuação do notebook com modelos clássicos, aqui, iremos treinar um modelo BERT para análise de sentimento em dados financeiros, juntamente de uma sobre-amostração da classe minoritária para lidar com o desbalanceamento de classes."
   ],
   "id": "6520c0a2c6f61d8c"
  },
  {
   "metadata": {
    "ExecuteTime": {
     "end_time": "2025-05-30T02:53:33.596208Z",
     "start_time": "2025-05-30T02:53:33.593793Z"
    }
   },
   "cell_type": "code",
   "source": [
    "#Importando bibliotecas\n",
    "import time\n",
    "\n",
    "import pandas as pd\n",
    "import numpy as np\n",
    "import torch\n",
    "import torch.nn as nn\n",
    "from torch.utils.data import Dataset, DataLoader\n",
    "import matplotlib.pyplot as plt\n",
    "from transformers import BertModel, BertTokenizer\n",
    "from sklearn.model_selection import train_test_split\n",
    "from sklearn.preprocessing import LabelEncoder\n",
    "from sklearn.metrics import confusion_matrix\n",
    "\n",
    "import seaborn\n",
    "\n",
    "import warnings\n",
    "warnings.filterwarnings('ignore')"
   ],
   "id": "5d3d2f49478ac3ac",
   "outputs": [],
   "execution_count": 14
  },
  {
   "metadata": {},
   "cell_type": "code",
   "outputs": [
    {
     "name": "stderr",
     "output_type": "stream",
     "text": [
      "/home/apo-pc/anaconda3/envs/DataScience_Mandacaru/lib/python3.12/site-packages/tqdm/auto.py:21: TqdmWarning: IProgress not found. Please update jupyter and ipywidgets. See https://ipywidgets.readthedocs.io/en/stable/user_install.html\n",
      "  from .autonotebook import tqdm as notebook_tqdm\n"
     ]
    },
    {
     "name": "stdout",
     "output_type": "stream",
     "text": [
      "Usando dispositivo: cuda\n"
     ]
    }
   ],
   "execution_count": 1,
   "source": [
    "# Configuração do dispositivo CUDA\n",
    "device = torch.device('cuda' if torch.cuda.is_available() else 'cpu')\n",
    "print(f\"Usando dispositivo: {device}\")"
   ],
   "id": "30eb88c96627f87a"
  },
  {
   "metadata": {},
   "cell_type": "markdown",
   "source": "### Funções Auxiliares",
   "id": "69b6ac1ced957bbd"
  },
  {
   "metadata": {},
   "cell_type": "code",
   "outputs": [],
   "execution_count": null,
   "source": [
    "def carregar_dados():\n",
    "    \"\"\"Carrega os dados de diferentes caminhos possíveis\"\"\"\n",
    "    caminhos = ['../data/data.csv', './data/data.csv', 'data.csv']\n",
    "\n",
    "    for caminho in caminhos:\n",
    "        try:\n",
    "            df = pd.read_csv(caminho)\n",
    "            print(f\"✓ Dados carregados com sucesso de: {caminho}\")\n",
    "            return df\n",
    "        except FileNotFoundError:\n",
    "            continue\n",
    "\n",
    "    raise FileNotFoundError(\"Arquivo de dados não encontrado em nenhum caminho.\")\n",
    "\n",
    "def aumentar_dados_minoritarios(X, y):\n",
    "    \"\"\"Aplica aumento de dados balanceando as classes\"\"\"\n",
    "    from collections import Counter\n",
    "    import random\n",
    "\n",
    "    # Contar classes\n",
    "    contador = Counter(y)\n",
    "    classe_majoritaria = max(contador, key=contador.get)\n",
    "    max_amostras = contador[classe_majoritaria]\n",
    "\n",
    "    X_aumentado = list(X)\n",
    "    y_aumentado = list(y)\n",
    "\n",
    "    for classe, count in contador.items():\n",
    "        if count < max_amostras:\n",
    "            # Selecionar amostras da classe minoritária\n",
    "            indices_classe = [i for i, label in enumerate(y) if label == classe]\n",
    "            amostras_classe = [X[i] for i in indices_classe]\n",
    "\n",
    "            # Duplicar amostras aleatoriamente até equilibrar\n",
    "            amostras_necessarias = max_amostras - count\n",
    "            for _ in range(amostras_necessarias):\n",
    "                amostra_original = random.choice(amostras_classe)\n",
    "                X_aumentado.append(amostra_original)\n",
    "                y_aumentado.append(classe)\n",
    "\n",
    "    return np.array(X_aumentado), np.array(y_aumentado)\n",
    "\n",
    "def calcular_acuracia(dataloader, model, device):\n",
    "    \"\"\"Calcula a acurácia do modelo\"\"\"\n",
    "    model.eval()\n",
    "    total_correct = 0\n",
    "    total_samples = 0\n",
    "\n",
    "    with torch.no_grad():\n",
    "        for batch in dataloader:\n",
    "            input_ids = batch['input_ids'].to(device)\n",
    "            attention_mask = batch['attention_mask'].to(device)\n",
    "            labels = batch['labels'].to(device)\n",
    "\n",
    "            outputs = model(input_ids, attention_mask)\n",
    "            predictions = torch.argmax(outputs, dim=1)\n",
    "\n",
    "            total_correct += (predictions == labels).sum().item()\n",
    "            total_samples += labels.size(0)\n",
    "\n",
    "    return total_correct / total_samples\n",
    "\n",
    "# Função para calcular acurácia para o conjunto de treino\n",
    "def calcular_acuracia_treino(dataloader, model, device):\n",
    "    model.eval()\n",
    "    total_correct = 0\n",
    "    total_samples = 0\n",
    "\n",
    "    with torch.no_grad():\n",
    "        for batch in dataloader:\n",
    "            input_ids = batch['input_ids'].to(device)\n",
    "            attention_mask = batch['attention_mask'].to(device)\n",
    "            labels = batch['labels'].to(device)\n",
    "\n",
    "            outputs = model(input_ids, attention_mask)\n",
    "            predictions = torch.argmax(outputs, dim=1)\n",
    "\n",
    "            total_correct += (predictions == labels).sum().item()\n",
    "            total_samples += labels.size(0)\n",
    "\n",
    "    return total_correct / total_samples\n",
    "\n",
    "\n",
    "def treinar_epoca(model, dataloader, optimizer, criterion, device):\n",
    "    \"\"\"Treina o modelo por uma época\"\"\"\n",
    "    model.train()\n",
    "    total_loss = 0\n",
    "\n",
    "    for batch in dataloader:\n",
    "        input_ids = batch['input_ids'].to(device)\n",
    "        attention_mask = batch['attention_mask'].to(device)\n",
    "        labels = batch['labels'].to(device)\n",
    "\n",
    "        optimizer.zero_grad()\n",
    "        outputs = model(input_ids, attention_mask)\n",
    "        loss = criterion(outputs, labels)\n",
    "        loss.backward()\n",
    "        optimizer.step()\n",
    "\n",
    "        total_loss += loss.item()\n",
    "        print(f\"Loss: {loss.item():.4f}\", end='\\r')\n",
    "\n",
    "    return total_loss / len(dataloader)"
   ],
   "id": "ebbbde4016d5cb26"
  },
  {
   "metadata": {},
   "cell_type": "markdown",
   "source": "### Carregando os Dados",
   "id": "7caecc715dad1323"
  },
  {
   "metadata": {
    "ExecuteTime": {
     "end_time": "2025-05-30T02:53:08.175419Z",
     "start_time": "2025-05-30T02:53:08.162910Z"
    }
   },
   "cell_type": "code",
   "source": [
    "\n",
    "# Carregar dados\n",
    "df = carregar_dados()"
   ],
   "id": "708d2b578b345faf",
   "outputs": [
    {
     "name": "stdout",
     "output_type": "stream",
     "text": [
      "✓ Dados carregados com sucesso de: ../data/data.csv\n",
      "\n",
      "Shape dos dados: (5842, 2)\n",
      "Colunas: ['Sentence', 'Sentiment']\n",
      "\n",
      "Distribuição de sentimentos:\n",
      "Sentiment\n",
      "neutral     3130\n",
      "positive    1852\n",
      "negative     860\n",
      "Name: count, dtype: int64\n",
      "\n",
      "Valores nulos por coluna:\n",
      "Sentence     0\n",
      "Sentiment    0\n",
      "dtype: int64\n",
      "\n",
      "Shape após limpeza: (5842, 2)\n"
     ]
    }
   ],
   "execution_count": 12
  },
  {
   "metadata": {},
   "cell_type": "markdown",
   "source": "## Pré-processamento",
   "id": "8e0da626b8239b4e"
  },
  {
   "metadata": {
    "ExecuteTime": {
     "end_time": "2025-05-30T02:44:06.815644Z",
     "start_time": "2025-05-30T02:44:06.808599Z"
    }
   },
   "cell_type": "code",
   "source": [
    "# Codificação dos rótulos\n",
    "encoder = LabelEncoder()\n",
    "labels = encoder.fit_transform(df['Sentiment'])\n",
    "label_mapping = dict(zip(encoder.classes_, encoder.transform(encoder.classes_)))\n",
    "print(f\"\\nMapeamento de rótulos: {label_mapping}\")\n",
    "\n",
    "# Divisão inicial dos dados\n",
    "X_train_val, X_test_final, y_train_val, y_test_final = train_test_split(\n",
    "    df['Sentence'].values,\n",
    "    labels,\n",
    "    test_size=0.2,\n",
    "    stratify=df['Sentiment'].values,\n",
    "    random_state=19\n",
    ")\n",
    "\n",
    "print(f\"\\nDivisão dos dados:\")\n",
    "print(f\"Treino+Validação: {len(X_train_val)} amostras\")\n",
    "print(f\"Teste final: {len(X_test_final)} amostras\")"
   ],
   "id": "73c1a0d005ee16c8",
   "outputs": [
    {
     "name": "stdout",
     "output_type": "stream",
     "text": [
      "\n",
      "Mapeamento de rótulos: {'negative': np.int64(0), 'neutral': np.int64(1), 'positive': np.int64(2)}\n",
      "\n",
      "Divisão dos dados:\n",
      "Treino+Validação: 4673 amostras\n",
      "Teste final: 1169 amostras\n"
     ]
    }
   ],
   "execution_count": 3
  },
  {
   "metadata": {},
   "cell_type": "markdown",
   "source": "### Sobre-amostragem das classe minoritária",
   "id": "faf1a458eb015409"
  },
  {
   "metadata": {
    "ExecuteTime": {
     "end_time": "2025-05-30T02:44:06.871383Z",
     "start_time": "2025-05-30T02:44:06.859447Z"
    }
   },
   "cell_type": "code",
   "source": [
    "# Aplicar aumento de dados\n",
    "X_train_augmented, y_train_augmented = aumentar_dados_minoritarios(X_train_val, y_train_val)\n",
    "\n",
    "print(f\"\\nDados após aumento:\")\n",
    "print(f\"Antes: {len(X_train_val)} amostras\")\n",
    "print(f\"Depois: {len(X_train_augmented)} amostras\")\n",
    "print(f\"Distribuição após aumento: {np.bincount(y_train_augmented)}\")"
   ],
   "id": "8208a9bf9342a5f7",
   "outputs": [
    {
     "name": "stdout",
     "output_type": "stream",
     "text": [
      "\n",
      "Dados após aumento:\n",
      "Antes: 4673 amostras\n",
      "Depois: 7512 amostras\n",
      "Distribuição após aumento: [2504 2504 2504]\n"
     ]
    }
   ],
   "execution_count": 4
  },
  {
   "metadata": {},
   "cell_type": "markdown",
   "source": "Função para Tokenização e criação do Dataset",
   "id": "3cb0942b64fed93b"
  },
  {
   "metadata": {
    "ExecuteTime": {
     "end_time": "2025-05-30T02:44:07.776415Z",
     "start_time": "2025-05-30T02:44:06.912035Z"
    }
   },
   "cell_type": "code",
   "source": [
    "class SentimentDataset(Dataset):\n",
    "    \"\"\"Dataset personalizado para análise de sentimentos\"\"\"\n",
    "\n",
    "    def __init__(self, texts, labels, tokenizer, max_length=128):\n",
    "        self.texts = texts\n",
    "        self.labels = labels\n",
    "        self.tokenizer = tokenizer\n",
    "        self.max_length = max_length\n",
    "\n",
    "    def __len__(self):\n",
    "        return len(self.texts)\n",
    "\n",
    "    def __getitem__(self, idx):\n",
    "        text = str(self.texts[idx])\n",
    "\n",
    "        encoding = self.tokenizer.encode_plus(\n",
    "            text,\n",
    "            max_length=self.max_length,\n",
    "            add_special_tokens=True,\n",
    "            padding='max_length',\n",
    "            truncation=True,\n",
    "            return_attention_mask=True,\n",
    "            return_tensors='pt'\n",
    "        )\n",
    "\n",
    "        return {\n",
    "            'input_ids': encoding['input_ids'].flatten(),\n",
    "            'attention_mask': encoding['attention_mask'].flatten(),\n",
    "            'labels': torch.tensor(self.labels[idx], dtype=torch.long)\n",
    "        }\n",
    "\n",
    "# Inicializar tokenizer\n",
    "tokenizer = BertTokenizer.from_pretrained('bert-base-uncased')\n",
    "print(\"Tokenizer BERT carregado.\")"
   ],
   "id": "c02a582b5e8cde31",
   "outputs": [
    {
     "name": "stdout",
     "output_type": "stream",
     "text": [
      "✓ Tokenizer BERT carregado\n"
     ]
    }
   ],
   "execution_count": 5
  },
  {
   "metadata": {},
   "cell_type": "markdown",
   "source": "## Modelagem: Classificação de Sentimentos Com BERT",
   "id": "1749727009312eb"
  },
  {
   "metadata": {
    "ExecuteTime": {
     "end_time": "2025-05-30T02:44:07.781713Z",
     "start_time": "2025-05-30T02:44:07.779165Z"
    }
   },
   "cell_type": "code",
   "source": [
    "class SentimentBERT(nn.Module):\n",
    "    \"\"\"Modelo BERT para classificação de sentimentos\"\"\"\n",
    "\n",
    "    def __init__(self, n_classes=3, dropout=0.3):\n",
    "        super(SentimentBERT, self).__init__()\n",
    "        self.bert = BertModel.from_pretrained('bert-base-uncased')\n",
    "        self.dropout = nn.Dropout(dropout)\n",
    "        self.classifier = nn.Linear(self.bert.config.hidden_size, n_classes)\n",
    "\n",
    "    def forward(self, input_ids, attention_mask):\n",
    "        outputs = self.bert(input_ids=input_ids, attention_mask=attention_mask)\n",
    "        pooled_output = outputs.pooler_output\n",
    "        output = self.dropout(pooled_output)\n",
    "        return self.classifier(output)"
   ],
   "id": "4788ec9a4be41214",
   "outputs": [],
   "execution_count": 6
  },
  {
   "metadata": {},
   "cell_type": "markdown",
   "source": "## Treinamento e Avaliação do Modelo",
   "id": "9d9f2c954eac24d3"
  },
  {
   "metadata": {
    "ExecuteTime": {
     "end_time": "2025-05-30T02:52:53.139807Z",
     "start_time": "2025-05-30T02:44:07.882828Z"
    }
   },
   "cell_type": "code",
   "source": [
    "# Dividir dados de treino em treino/validação\n",
    "X_train_final, X_val_final, y_train_final, y_val_final = train_test_split(\n",
    "    X_train_augmented, y_train_augmented, test_size=0.2,\n",
    "    stratify=y_train_augmented, random_state=42\n",
    ")\n",
    "\n",
    "# Criar datasets finais\n",
    "train_dataset_final = SentimentDataset(X_train_final, y_train_final, tokenizer)\n",
    "val_dataset_final = SentimentDataset(X_val_final, y_val_final, tokenizer)\n",
    "test_dataset_final = SentimentDataset(X_test_final, y_test_final, tokenizer)\n",
    "\n",
    "# Criar dataloaders finais\n",
    "train_loader_final = DataLoader(train_dataset_final, batch_size=32, shuffle=True)\n",
    "val_loader_final = DataLoader(val_dataset_final, batch_size=32, shuffle=False)\n",
    "test_loader_final = DataLoader(test_dataset_final, batch_size=32, shuffle=False)\n",
    "\n",
    "# Modelo final\n",
    "modelo_final = SentimentBERT(n_classes=3).to(device)\n",
    "optimizer_final = torch.optim.AdamW(modelo_final.parameters(), lr=2e-5)\n",
    "criterion_final = nn.CrossEntropyLoss()\n",
    "\n",
    "# Treinamento final\n",
    "n_epochs_final = 5\n",
    "melhor_modelo = None\n",
    "melhor_acc_val = 0\n",
    "\n",
    "# Variáveis para armazenar métricas\n",
    "historico_train_loss = []\n",
    "historico_val_loss = []\n",
    "historico_train_acc = []\n",
    "historico_val_acc = []\n",
    "\n",
    "\n",
    "# Treinamento final com armazenamento dos valores\n",
    "print(\"Treinando modelo final\")\n",
    "for epoch in range(n_epochs_final):\n",
    "    train_loss = treinar_epoca(modelo_final, train_loader_final, optimizer_final, criterion_final, device)\n",
    "    val_loss = 0\n",
    "    val_steps = 0\n",
    "\n",
    "    # Calcular loss de validação\n",
    "    modelo_final.eval()\n",
    "    with torch.no_grad():\n",
    "        for batch in val_loader_final:\n",
    "            input_ids = batch['input_ids'].to(device)\n",
    "            attention_mask = batch['attention_mask'].to(device)\n",
    "            labels = batch['labels'].to(device)\n",
    "\n",
    "            outputs = modelo_final(input_ids, attention_mask)\n",
    "            loss = criterion_final(outputs, labels)\n",
    "\n",
    "            val_loss += loss.item()\n",
    "            val_steps += 1\n",
    "\n",
    "    val_loss /= val_steps\n",
    "    train_acc = calcular_acuracia_treino(train_loader_final, modelo_final, device)\n",
    "    val_acc = calcular_acuracia(val_loader_final, modelo_final, device)\n",
    "\n",
    "    historico_train_loss.append(train_loss)  # Armazenar loss de treino\n",
    "    historico_val_loss.append(val_loss)      # Armazenar loss de validação\n",
    "    historico_train_acc.append(train_acc)    # Armazenar acurácia de treino\n",
    "    historico_val_acc.append(val_acc)        # Armazenar acurácia de validação\n",
    "\n",
    "    if val_acc > melhor_acc_val:\n",
    "        melhor_acc_val = val_acc\n",
    "        melhor_modelo = modelo_final.state_dict().copy()\n",
    "\n",
    "    print(f\"Época {epoch + 1}/{n_epochs_final}: Train_Loss={train_loss:.4f}, Val_Loss={val_loss:.4f}, \"\n",
    "          f\"Train_Acc={train_acc:.4f}, Val_Acc={val_acc:.4f}\")\n",
    "\n",
    "\n",
    "# Carregar melhor modelo\n",
    "modelo_final.load_state_dict(melhor_modelo)\n",
    "\n",
    "# Carregar melhor modelo\n",
    "modelo_final.load_state_dict(melhor_modelo)"
   ],
   "id": "5eeddfa829cf83d7",
   "outputs": [
    {
     "name": "stdout",
     "output_type": "stream",
     "text": [
      "\n",
      "=== TREINAMENTO DO MODELO FINAL ===\n",
      "Treinando modelo final\n",
      "Época 1/5: Train_Loss=0.6611, Val_Loss=0.4174, Train_Acc=0.8724, Val_Acc=0.8397\n",
      "Época 2/5: Train_Loss=0.3189, Val_Loss=0.3597, Train_Acc=0.9248, Val_Acc=0.8703\n",
      "Época 3/5: Train_Loss=0.2148, Val_Loss=0.3636, Train_Acc=0.9329, Val_Acc=0.8762\n",
      "Época 4/5: Train_Loss=0.1735, Val_Loss=0.3851, Train_Acc=0.9434, Val_Acc=0.8842\n",
      "Época 5/5: Train_Loss=0.1612, Val_Loss=0.3955, Train_Acc=0.9451, Val_Acc=0.8822\n"
     ]
    },
    {
     "data": {
      "text/plain": [
       "<All keys matched successfully>"
      ]
     },
     "execution_count": 8,
     "metadata": {},
     "output_type": "execute_result"
    }
   ],
   "execution_count": 8
  },
  {
   "metadata": {},
   "cell_type": "markdown",
   "source": "### Plot Perda Vs Acurácia | Treino e Validação",
   "id": "d95ec1b7b11e6f8e"
  },
  {
   "metadata": {
    "ExecuteTime": {
     "end_time": "2025-05-30T02:52:54.510559Z",
     "start_time": "2025-05-30T02:52:54.290106Z"
    }
   },
   "cell_type": "code",
   "source": [
    "# Plotar Loss e Acurácia para treino e validação\n",
    "plt.figure(figsize=(14, 8))\n",
    "\n",
    "# Gráfico de Loss\n",
    "plt.subplot(2, 1, 1)\n",
    "plt.plot(range(1, n_epochs_final + 1), historico_train_loss, label='Train Loss')\n",
    "plt.plot(range(1, n_epochs_final + 1), historico_val_loss, label='Val Loss')\n",
    "plt.xlabel('Época')\n",
    "plt.ylabel('Loss')\n",
    "plt.title('Evolução do Loss no Treinamento')\n",
    "plt.legend()\n",
    "\n",
    "# Gráfico de Acurácia\n",
    "plt.subplot(2, 1, 2)\n",
    "plt.plot(range(1, n_epochs_final + 1), historico_train_acc, label='Train Accuracy')\n",
    "plt.plot(range(1, n_epochs_final + 1), historico_val_acc, label='Val Accuracy')\n",
    "plt.xlabel('Época')\n",
    "plt.ylabel('Acurácia')\n",
    "plt.title('Evolução da Acurácia no Treinamento')\n",
    "plt.legend()\n",
    "\n",
    "plt.tight_layout()\n",
    "plt.show()"
   ],
   "id": "14f433f1921aac66",
   "outputs": [
    {
     "data": {
      "text/plain": [
       "<Figure size 1400x800 with 2 Axes>"
      ],
      "image/png": "[encoded data removed]"
     },
     "metadata": {},
     "output_type": "display_data"
    }
   ],
   "execution_count": 9
  },
  {
   "metadata": {},
   "cell_type": "markdown",
   "source": "Nota-se pelo grafico que o modelo apresenta uma tendência de overfitting, onde a acurácia de validação começa a divergir da acurácia de treino. A combinação de poucos dados e a complexidade do modelo BERT pode ter contribuído para isso. No entanto, a acurácia de validação ainda é aceitável, indicando que o modelo está aprendendo bem os padrões dos dados.",
   "id": "81f8ae40f47f2ea2"
  },
  {
   "metadata": {},
   "cell_type": "markdown",
   "source": "### Avaliação do Modelo Final",
   "id": "e0d94415c3926533"
  },
  {
   "metadata": {
    "ExecuteTime": {
     "end_time": "2025-05-30T02:53:47.577555Z",
     "start_time": "2025-05-30T02:53:39.187807Z"
    }
   },
   "cell_type": "code",
   "source": [
    "# Acurácia no conjunto de teste\n",
    "test_acc = calcular_acuracia(test_loader_final, modelo_final, device)\n",
    "print(f\"Acurácia no conjunto de teste: {test_acc:.4f}\")\n",
    "\n",
    "# Previsões detalhadas para relatório\n",
    "modelo_final.eval()\n",
    "all_preds = []\n",
    "all_labels = []\n",
    "\n",
    "with torch.no_grad():\n",
    "    for batch in test_loader_final:\n",
    "        input_ids = batch['input_ids'].to(device)\n",
    "        attention_mask = batch['attention_mask'].to(device)\n",
    "        labels = batch['labels'].to(device)\n",
    "\n",
    "        outputs = modelo_final(input_ids, attention_mask)\n",
    "        predictions = torch.argmax(outputs, dim=1)\n",
    "\n",
    "        all_preds.extend(predictions.cpu().numpy())\n",
    "        all_labels.extend(labels.cpu().numpy())\n",
    "\n",
    "# Relatório de classificação\n",
    "from sklearn.metrics import classification_report\n",
    "class_names = encoder.classes_\n",
    "print(\"\\nRelatório de Classificação:\")\n",
    "print(classification_report(all_labels, all_preds, target_names=class_names))\n",
    "\n",
    "cm = confusion_matrix(all_labels, all_preds, labels=np.arange(len(class_names)))\n",
    "\n",
    "# Plotar a matriz de confusão com Seaborn\n",
    "seaborn.heatmap(cm, annot=True, fmt='d', cmap='Blues', cbar=False,\n",
    "            xticklabels=class_names, yticklabels=class_names)\n",
    "plt.title('Matriz de Confusão - Modelo BERT')\n",
    "plt.xlabel('Predito')\n",
    "plt.ylabel('Real')\n",
    "plt.tight_layout()\n",
    "plt.show()\n"
   ],
   "id": "b6f1db34fb4835ea",
   "outputs": [
    {
     "name": "stdout",
     "output_type": "stream",
     "text": [
      "Acurácia no conjunto de teste: 0.7776\n",
      "\n",
      "Relatório de Classificação:\n",
      "              precision    recall  f1-score   support\n",
      "\n",
      "    negative       0.48      0.80      0.60       172\n",
      "     neutral       0.91      0.71      0.80       626\n",
      "    positive       0.83      0.88      0.86       371\n",
      "\n",
      "    accuracy                           0.78      1169\n",
      "   macro avg       0.74      0.80      0.75      1169\n",
      "weighted avg       0.82      0.78      0.79      1169\n",
      "\n"
     ]
    },
    {
     "data": {
      "text/plain": [
       "<Figure size 640x480 with 1 Axes>"
      ],
      "image/png": "[encoded data removed]"
     },
     "metadata": {},
     "output_type": "display_data"
    }
   ],
   "execution_count": 15
  },
  {
   "metadata": {},
   "cell_type": "markdown",
   "source": [
    "Notamos enfim que o modelo BERT treinado alcançou uma acurácia e F1-Score consideravelmente melhores do que os modelos clássicos, especialmente em relação à classe minoritária. A matriz de confusão mostra que o modelo é capaz de distinguir bem entre as classes, com poucas confusões.\n",
    "\n",
    "O modelo é capaz de lidar de forma satisfatória com as classes de interesse, especialmente para a classe positiva."
   ],
   "id": "50e69eddb7e73ca4"
  },
  {
   "metadata": {},
   "cell_type": "markdown",
   "source": [
    "## Medição de Latência\n",
    "\n",
    "Finalmente, iremos medir a latência do modelo treinado para inferência. Assim, poderemos avaliar a performance do modelo em termos de tempo de resposta, e entender como ele se comporta em produção."
   ],
   "id": "5e1a04e46c5bfb7d"
  },
  {
   "metadata": {
    "ExecuteTime": {
     "end_time": "2025-05-30T02:58:16.325990Z",
     "start_time": "2025-05-30T02:58:15.695626Z"
    }
   },
   "cell_type": "code",
   "source": [
    "\n",
    "\n",
    "def medir_latencia_modelo(model, tokenizer, textos_teste, device, n_repeticoes=100):\n",
    "    \"\"\"\n",
    "    Mede a latência do modelo para inferência\n",
    "\n",
    "    Args:\n",
    "        model: Modelo treinado\n",
    "        tokenizer: Tokenizer BERT\n",
    "        textos_teste: Lista de textos para teste\n",
    "        device: Dispositivo (CPU/GPU)\n",
    "        n_repeticoes: Número de repetições para média\n",
    "\n",
    "    Returns:\n",
    "        dict: Estatísticas de latência\n",
    "    \"\"\"\n",
    "    model.eval()\n",
    "    tempos = []\n",
    "\n",
    "    # Preparar dados de teste\n",
    "    encoding = tokenizer.encode_plus(\n",
    "        textos_teste[0],  # Usar primeiro texto como exemplo\n",
    "        max_length=128,\n",
    "        add_special_tokens=True,\n",
    "        padding='max_length',\n",
    "        truncation=True,\n",
    "        return_attention_mask=True,\n",
    "        return_tensors='pt'\n",
    "    )\n",
    "\n",
    "    input_ids = encoding['input_ids'].to(device)\n",
    "    attention_mask = encoding['attention_mask'].to(device)\n",
    "\n",
    "    # Warm-up (ignorar primeiras inferências)\n",
    "    with torch.no_grad():\n",
    "        for _ in range(10):\n",
    "            _ = model(input_ids, attention_mask)\n",
    "\n",
    "    # Medir latência\n",
    "    with torch.no_grad():\n",
    "        for _ in range(n_repeticoes):\n",
    "            start_time = time.perf_counter()\n",
    "            _ = model(input_ids, attention_mask)\n",
    "            end_time = time.perf_counter()\n",
    "            tempos.append((end_time - start_time) * 1000)  # Converter para ms\n",
    "\n",
    "    # Calcular estatísticas\n",
    "    estatisticas = {\n",
    "        'latencia_media_ms': np.mean(tempos),\n",
    "        'latencia_mediana_ms': np.median(tempos),\n",
    "        'latencia_min_ms': np.min(tempos),\n",
    "        'latencia_max_ms': np.max(tempos),\n",
    "        'desvio_padrao_ms': np.std(tempos),\n",
    "        'throughput_samples_per_sec': 1000 / np.mean(tempos)\n",
    "    }\n",
    "\n",
    "    return estatisticas, tempos\n",
    "\n",
    "# Preparar textos de teste do dataset\n",
    "textos_exemplo = X_test_final[:10]  # Usar os primeiros 10 textos do conjunto de teste\n",
    "\n",
    "# 1. Latência para inferência única\n",
    "print(\"Medindo latência:\")\n",
    "stats_single, tempos_single = medir_latencia_modelo(\n",
    "    modelo_final, tokenizer, textos_exemplo, device, n_repeticoes=100\n",
    ")\n",
    "print(f\"Média: {stats_single['latencia_media_ms']:.2f} ms | Mediana: {stats_single['latencia_mediana_ms']:.2f} ms | mín/máx: {stats_single['latencia_min_ms']:.2f}/{stats_single['latencia_max_ms']:.2f} ms | std.: {stats_single['desvio_padrao_ms']:.2f} ms\")"
   ],
   "id": "27297846b6856ddd",
   "outputs": [
    {
     "name": "stdout",
     "output_type": "stream",
     "text": [
      "Medindo latência:\n",
      "Média: 5.67 ms | Mediana: 5.18 ms | mín/máx: 5.06/9.21 ms | std.: 0.96 ms\n"
     ]
    }
   ],
   "execution_count": 22
  },
  {
   "metadata": {},
   "cell_type": "markdown",
   "source": "Mesmo executando em uma GPU de entrada (RTX 4060), o modelo apresenta uma baixissima latência, o que o torna adequado para aplicações em tempo real.",
   "id": "fdf82859e2d01dfa"
  }
 ],
 "metadata": {
  "kernelspec": {
   "display_name": "Python 3 (ipykernel)",
   "language": "python",
   "name": "python3"
  },
  "language_info": {
   "codemirror_mode": {
    "name": "ipython",
    "version": 3
   },
   "file_extension": ".py",
   "mimetype": "text/x-python",
   "name": "python",
   "nbconvert_exporter": "python",
   "pygments_lexer": "ipython3",
   "version": "3.11.7"
  }
 },
 "nbformat": 4,
 "nbformat_minor": 5
}
